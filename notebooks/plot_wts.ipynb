{
 "cells": [
  {
   "cell_type": "code",
   "execution_count": null,
   "metadata": {},
   "outputs": [],
   "source": [
    "from pathlib import Path\n",
    "import pandas as pd\n",
    "import re\n",
    "\n",
    "log_paths = [Path(d, 'checkpoint.log') for d in Path('/Users/marwei/AFS/home/urz/m/marwei/Logs/CoLLAs2023/where_to_split_resnet_10mib_cifar10').glob('cifar10_*')] \\\n",
    "          + [Path(d, 'checkpoint.log') for d in Path('/Users/marwei/AFS/home/urz/m/marwei/Logs/CoLLAs2023/where_to_split_resnet_10mib_cifar100').glob('cifar100_*')]\n",
    "\n",
    "dd = []\n",
    "for exp in log_paths:\n",
    "    with open(exp) as infile:\n",
    "        loglines = infile.read().splitlines()\n",
    "    dd.append(\n",
    "        {\n",
    "            'memory_size': int(re.findall(r\"memory_size=(\\d+)\", loglines[0])[0]),\n",
    "            'accuracy': float(re.findall(r\"Acc: \\[(.*?)\\]\", loglines[-1])[0]),\n",
    "            'dataset': re.findall(r\"dataset=\\'(.*?)\\'\", loglines[0])[0],\n",
    "            'backbone_block': int(re.findall(r\"backbone_block=(\\d+)\", loglines[0])[0]),\n",
    "            'seed': int(re.findall(r\"seed=(\\d+)\", loglines[0])[0]),\n",
    "        }\n",
    "    )\n",
    "df = pd.DataFrame.from_records(dd).sort_values('memory_size')"
   ]
  },
  {
   "cell_type": "code",
   "execution_count": null,
   "metadata": {},
   "outputs": [],
   "source": [
    "df2 = df.groupby(['dataset', 'backbone_block', 'memory_size'])['accuracy'].agg(['median', 'min', 'max']).reset_index()\n",
    "df2['error_pos'] = df2['max'] - df2['median'] \n",
    "df2['error_neg'] = df2['median'] - df2['min']\n",
    "df2.sort_values('memory_size', inplace=True)"
   ]
  },
  {
   "cell_type": "code",
   "execution_count": null,
   "metadata": {},
   "outputs": [],
   "source": [
    "import plotly.express as px\n",
    "from plot_utils import science_template\n",
    "\n",
    "fig = px.line(\n",
    "    df2,\n",
    "    x='memory_size',\n",
    "    y='median',\n",
    "    text='backbone_block',\n",
    "    color='dataset',\n",
    "    template=science_template,\n",
    "    labels={\n",
    "        'dataset': '',\n",
    "        'median': 'Accuracy',\n",
    "        'memory_size': 'N'\n",
    "    },\n",
    "    range_y=[0, 0.8]\n",
    ")\n",
    "\n",
    "fig.update_layout(\n",
    "    legend=dict(\n",
    "        orientation=\"h\",\n",
    "        yanchor=\"top\",\n",
    "        y=-0.25,\n",
    "        xanchor=\"left\",\n",
    "        x=0,\n",
    "        font_size=16\n",
    "    ),\n",
    "    font={\n",
    "        'size': 16,\n",
    "    },\n",
    "    yaxis_title_standoff=3,\n",
    "    xaxis_title_standoff=15\n",
    ")\n",
    "\n",
    "fig.write_image('../plots/wts.pdf', width=500, height=420)\n",
    "fig.show()"
   ]
  },
  {
   "cell_type": "code",
   "execution_count": null,
   "metadata": {},
   "outputs": [],
   "source": []
  }
 ],
 "metadata": {
  "kernelspec": {
   "display_name": "venv",
   "language": "python",
   "name": "python3"
  },
  "language_info": {
   "codemirror_mode": {
    "name": "ipython",
    "version": 3
   },
   "file_extension": ".py",
   "mimetype": "text/x-python",
   "name": "python",
   "nbconvert_exporter": "python",
   "pygments_lexer": "ipython3",
   "version": "3.10.11"
  },
  "orig_nbformat": 4,
  "vscode": {
   "interpreter": {
    "hash": "bf512aeddfa2a661caeb125bde29b96da36ff535c5cf534cb92d1e0ed67a6bd0"
   }
  }
 },
 "nbformat": 4,
 "nbformat_minor": 2
}
