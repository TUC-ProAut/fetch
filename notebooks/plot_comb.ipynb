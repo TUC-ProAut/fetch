{
 "cells": [
  {
   "attachments": {},
   "cell_type": "markdown",
   "metadata": {},
   "source": [
    "| cut...                    | output shape | output size | bits (bytes) to adress output coordinates |\n",
    "|---------------------------|--------------|-------------|-------------------------------------------|\n",
    "| after Block 1             | 8x8x64       |  4096       | 12 (2)                                    |\n",
    "| after Block 2             | 4x4x128      |  2048       | 11 (2)                                    |\n",
    "| after Block 3             | 2x2x256      |  1024       | 10 (2)                                    |\n",
    "| after Block 4             | 1x1x512      |   512       |  9 (2)                                    |\n",
    "\n",
    "We assume\n",
    "\n",
    "* one float takes up 4 Byte of Memory\n",
    "* uints are used for output-coordinates"
   ]
  },
  {
   "cell_type": "code",
   "execution_count": null,
   "metadata": {},
   "outputs": [],
   "source": [
    "from pathlib import Path\n",
    "\n",
    "MODEL_SIZE_MB = 0\n",
    "OUTPUT_SIZE_ENCODED = 1024\n",
    "OUTPUT_SIZE_UNENCODED = 32*32*3\n",
    "FLOAT_SIZE_BYTE = 4\n",
    "UINT_SIZE_BYTE = 1\n",
    "COORDINATE_SIZE_BYTE = 2\n",
    "\n",
    "log_paths = [Path(d, 'checkpoint.log') for d in Path('/Users/marwei/AFS/home/urz/m/marwei/Logs/IDEAL/cifar10_rescon').glob('cifar10*')] \\\n",
    "          + [Path(d, 'checkpoint.log') for d in Path('/Users/marwei/AFS/home/urz/m/marwei/Logs/IDEAL/cifar100_rescon').glob('cifar10*')] "
   ]
  },
  {
   "attachments": {},
   "cell_type": "markdown",
   "metadata": {},
   "source": [
    "# Parse logs to pandas dataframe"
   ]
  },
  {
   "cell_type": "code",
   "execution_count": null,
   "metadata": {},
   "outputs": [],
   "source": [
    "import re\n",
    "import pandas as pd\n",
    "\n",
    "c = []\n",
    "\n",
    "for exp in log_paths:\n",
    "    with open(exp) as infile:\n",
    "        loglines = infile.read().splitlines()\n",
    "\n",
    "    mem_size = int(re.findall(r\"memory_size=(\\d+)\", loglines[0])[0])\n",
    "    final_acc = float(re.findall(r\"Acc: \\[(.*?)\\]\", loglines[-1])[0])\n",
    "    compressor = re.findall(r\"compressor=\\'(.*?)\\'\", loglines[0])[0]\n",
    "    encoder = re.findall(r\"encoder=\\'(.*?)\\'\", loglines[0])[0]\n",
    "    dataset = re.findall(r\"dataset=\\'(.*?)\\'\", loglines[0])[0]\n",
    "\n",
    "    compressor_param = None\n",
    "\n",
    "    if compressor == 'thinning':\n",
    "        compressor_param = float(re.findall(r\"compression_factor=(.*?),\", loglines[0])[0])\n",
    "    elif compressor == 'quantization':\n",
    "        compressor_param = int(re.findall(r\"n_states=(\\d+)\", loglines[0])[0])\n",
    "        try:\n",
    "            strategy = re.findall(r\"strategy=\\'(.*?)\\'\", loglines[0])[0]\n",
    "            assert strategy == 'tiny_imagenet_transfer' or strategy == 'local'\n",
    "            if strategy == 'tiny_imagenet_transfer':\n",
    "                compressor_new = 'quantization transfer'\n",
    "            elif strategy == 'local':\n",
    "                compressor_new = 'quantization local'\n",
    "            else:\n",
    "                raise ValueError('Unknown Quantization Stragegy: ' + strategy)\n",
    "        except IndexError:\n",
    "            compressor_new = 'quantization local'\n",
    "        compressor = compressor_new\n",
    "    elif compressor == 'convae':\n",
    "        compressor_param = int(re.findall(r\"latent_channels=(\\d+)\", loglines[0])[0])\n",
    "    elif compressor == 'fcae':\n",
    "        compressor_param = int(re.findall(r\"bottleneck_neurons=(\\d+)\", loglines[0])[0])\n",
    "    elif compressor == 'none':\n",
    "        compressor_param = 0\n",
    "    else:\n",
    "        raise ValueError(f'Unknown Compressor: {compressor}')\n",
    "\n",
    "    encoder = 'cutr' if encoder == 'cutr34' else encoder\n",
    "\n",
    "    if encoder == 'cutr':\n",
    "        encoding_block = int(re.findall(r\"encoding_block=(\\d+)\", loglines[0])[0])\n",
    "        output_size = OUTPUT_SIZE_ENCODED\n",
    "    elif encoder == 'none':\n",
    "        output_size = OUTPUT_SIZE_UNENCODED\n",
    "    else:\n",
    "        raise ValueError('Unknown Encoder')\n",
    "\n",
    "    c.append({\n",
    "        'mem_size': mem_size,\n",
    "        'final_acc': final_acc,\n",
    "        'output_size': output_size,\n",
    "        'encoder': encoder,\n",
    "        'compressor': compressor,\n",
    "        'compressor_param': compressor_param,\n",
    "        'dataset': dataset\n",
    "    })\n",
    "\n",
    "df = pd.DataFrame.from_records(c)"
   ]
  },
  {
   "cell_type": "code",
   "execution_count": null,
   "metadata": {},
   "outputs": [],
   "source": [
    "df['mem_size_mb'] = 0\n",
    "df.loc[df['encoder']=='none', 'bytes_for_datatype'] = UINT_SIZE_BYTE\n",
    "df.loc[df['encoder']=='cutr', 'bytes_for_datatype'] = FLOAT_SIZE_BYTE"
   ]
  },
  {
   "attachments": {},
   "cell_type": "markdown",
   "metadata": {},
   "source": [
    "# Compute Storage Consumption"
   ]
  },
  {
   "attachments": {},
   "cell_type": "markdown",
   "metadata": {},
   "source": [
    "Baseline"
   ]
  },
  {
   "cell_type": "code",
   "execution_count": null,
   "metadata": {},
   "outputs": [],
   "source": [
    "df.loc[df['compressor']=='none', 'mem_size_mb'] = \\\n",
    "    df.loc[df['compressor']=='none', 'bytes_for_datatype'] \\\n",
    "    * df.loc[df['compressor']=='none', 'output_size'] \\\n",
    "    * df.loc[df['compressor']=='none', 'mem_size'] \\\n",
    "    / (1024*1024) \\\n",
    "    + MODEL_SIZE_MB"
   ]
  },
  {
   "attachments": {},
   "cell_type": "markdown",
   "metadata": {},
   "source": [
    "Thinning"
   ]
  },
  {
   "cell_type": "code",
   "execution_count": null,
   "metadata": {},
   "outputs": [],
   "source": [
    "df['n_elements_per_sample'] = 0\n",
    "df['sample_size_byte'] = 0\n",
    "\n",
    "df.loc[df.compressor=='thinning', 'n_elements_per_sample'] = \\\n",
    "    df.loc[df.compressor=='thinning', 'output_size'] \\\n",
    "    * (1 - df.loc[df.compressor=='thinning', 'compressor_param'])\n",
    "df.loc[df.compressor=='thinning', 'sample_size_byte'] = \\\n",
    "    df.loc[df.compressor=='thinning', 'n_elements_per_sample'] \\\n",
    "    * df.loc[df.compressor=='thinning', 'bytes_for_datatype'] \\\n",
    "    + df.loc[df.compressor=='thinning', 'n_elements_per_sample'] \\\n",
    "    * COORDINATE_SIZE_BYTE\n",
    "df.loc[df.compressor=='thinning', 'mem_size_mb'] = \\\n",
    "    df.loc[df.compressor=='thinning', 'sample_size_byte'] \\\n",
    "    * df.loc[df.compressor=='thinning', 'mem_size'] \\\n",
    "    / (1024*1024) \\\n",
    "    + MODEL_SIZE_MB\n",
    "df.drop(columns=['n_elements_per_sample', 'sample_size_byte'], inplace=True)\n"
   ]
  },
  {
   "attachments": {},
   "cell_type": "markdown",
   "metadata": {},
   "source": [
    "Quantization"
   ]
  },
  {
   "cell_type": "code",
   "execution_count": null,
   "metadata": {},
   "outputs": [],
   "source": [
    "import numpy as np\n",
    "df['compressed_data'] = 0\n",
    "df['inverval_centers'] = 0\n",
    "\n",
    "mask = (df.compressor=='quantization local') | (df.compressor=='quantization transfer')\n",
    "df.loc[mask, 'compressed_data'] = \\\n",
    "    df.loc[mask, 'mem_size'] \\\n",
    "    * np.ceil(\n",
    "        np.ceil(np.log2(df.loc[mask, 'compressor_param']))\n",
    "        * df.loc[mask, 'output_size']\n",
    "        / 8\n",
    "    )\n",
    "\n",
    "df.loc[df['compressor']=='quantization local', 'inverval_centers'] = \\\n",
    "    df.loc[df['compressor']=='quantization local', 'mem_size'] \\\n",
    "    * df.loc[df['compressor']=='quantization local', 'compressor_param'] \\\n",
    "    * FLOAT_SIZE_BYTE\n",
    "\n",
    "df.loc[df['compressor']=='quantization transfer', 'inverval_centers'] = \\\n",
    "    df.loc[df['compressor']=='quantization transfer', 'compressor_param'] \\\n",
    "    * FLOAT_SIZE_BYTE\n",
    "\n",
    "df.loc[mask, 'mem_size_mb'] = \\\n",
    "    MODEL_SIZE_MB \\\n",
    "    + (\n",
    "        df.loc[mask, 'inverval_centers']\n",
    "        + df.loc[mask, 'compressed_data']\n",
    "    ) / (8*1024*1024)\n",
    "\n",
    "df.drop(columns=['compressed_data', 'inverval_centers'], inplace=True)"
   ]
  },
  {
   "attachments": {},
   "cell_type": "markdown",
   "metadata": {},
   "source": [
    "Conv Autoencoder"
   ]
  },
  {
   "cell_type": "code",
   "execution_count": null,
   "metadata": {},
   "outputs": [],
   "source": [
    "ae_size_mb = {\n",
    "    1: 0.00452423095703125,\n",
    "    2: 0.0056304931640625,\n",
    "    4: 0.007843017578125,\n",
    "    8: 0.01226806640625,\n",
    "    16: 0.0211181640625,\n",
    "}\n",
    "\n",
    "df['convae_size'] = df['compressor_param'].astype('int')\n",
    "df.loc[df['compressor']=='convae', 'convae_size'] = df.loc[df['compressor']=='convae', 'convae_size'].replace(ae_size_mb)\n",
    "df.loc[df['compressor']=='convae', 'mem_size_mb'] = \\\n",
    "    MODEL_SIZE_MB \\\n",
    "    + df.loc[df['compressor']=='convae', 'convae_size'] \\\n",
    "    + ( \n",
    "        df.loc[df['compressor']=='convae', 'mem_size']\n",
    "        * 8 * 8 * df.loc[df['compressor']=='convae', 'compressor_param']\n",
    "        * FLOAT_SIZE_BYTE\n",
    "        / (1024*1024)\n",
    "    )\n",
    "\n",
    "df.drop(columns=['convae_size'], inplace=True)"
   ]
  },
  {
   "attachments": {},
   "cell_type": "markdown",
   "metadata": {},
   "source": [
    "FC Autoencoder"
   ]
  },
  {
   "cell_type": "code",
   "execution_count": null,
   "metadata": {},
   "outputs": [],
   "source": [
    "SIZE_FCAE_NONE_MB = {\n",
    "    64: 52.08887481689453,\n",
    "    32: 43.0804443359375,\n",
    "    16: 36.295753479003906,\n",
    "    8: 30.972145080566406,\n",
    "    4: 26.713584899902344,\n",
    "    2: 23.205177307128906,\n",
    "}\n",
    "SIZE_FCAE_CUTR_MB = {\n",
    "    64: 8.331954956054688,\n",
    "    32: 6.5640106201171875,\n",
    "    16: 5.3397216796875,\n",
    "    8: 4.450263977050781,\n",
    "    4: 3.7687225341796875,\n",
    "    2: 3.2361679077148438,\n",
    "}\n",
    "\n",
    "df['fcae_size'] = df['compressor_param'].astype('int')\n",
    "df.loc[(df['compressor']=='fcae') & (df['encoder']=='none'), 'fcae_size'] = df.loc[(df['compressor']=='fcae') & (df['encoder']=='none'), 'fcae_size'].replace(SIZE_FCAE_NONE_MB)\n",
    "df.loc[(df['compressor']=='fcae') & (df['encoder']=='cutr'), 'fcae_size'] = df.loc[(df['compressor']=='fcae') & (df['encoder']=='cutr'), 'fcae_size'].replace(SIZE_FCAE_CUTR_MB)\n",
    "df.loc[df['compressor']=='fcae', 'mem_size_mb'] = \\\n",
    "    df.loc[df['compressor']=='fcae', 'fcae_size'] \\\n",
    "    + (\n",
    "        df.loc[df['compressor']=='fcae', 'mem_size']\n",
    "        * df.loc[df['compressor']=='fcae', 'compressor_param']\n",
    "        * FLOAT_SIZE_BYTE\n",
    "        / (1024*1024)\n",
    "    )\n",
    "df.drop(columns=['fcae_size'], inplace=True)"
   ]
  },
  {
   "attachments": {},
   "cell_type": "markdown",
   "metadata": {},
   "source": [
    "# Plot"
   ]
  },
  {
   "attachments": {},
   "cell_type": "markdown",
   "metadata": {},
   "source": [
    "we only want to plot\n",
    "\n",
    "* GDumb (no compression, no encoding)\n",
    "* Conv-AE + no Encoding\n",
    "* Thinning + Encoding\n",
    "* Quantization transfer + Encoding\n"
   ]
  },
  {
   "cell_type": "code",
   "execution_count": null,
   "metadata": {},
   "outputs": [],
   "source": [
    "view = df.loc[\n",
    "    ((df['encoder']=='none') & (df['compressor']=='none'))\n",
    "    | ((df['encoder']=='cutr') & (df['compressor']=='none'))\n",
    "    | ((df['encoder']=='none') & (df['compressor']=='convae') & (df['compressor_param'] == 16))\n",
    "    | ((df['encoder']=='cutr') & (df['compressor']=='thinning') & (df['compressor_param'] == 0.5))\n",
    "    | ((df['encoder']=='cutr') & (df['compressor']=='thinning') & (df['compressor_param'] == 0.95))\n",
    "    | ((df['encoder']=='cutr') & (df['compressor']=='quantization transfer') & (df['compressor_param'] == 2))\n",
    "    | ((df['encoder']=='cutr') & (df['compressor']=='quantization transfer') & (df['compressor_param'] == 4))\n",
    "    | ((df['encoder']=='cutr') & (df['compressor']=='quantization transfer') & (df['compressor_param'] == 32))\n",
    "]\n",
    "\n",
    "\n",
    "encoder_names = {\n",
    "    'none': '',\n",
    "    'cutr': 'Cut ResNet + '\n",
    "}\n",
    "\n",
    "compressor_names = {\n",
    "    'none': '',\n",
    "    'convae': 'Autoencoder',\n",
    "    'thinning': 'Thinning',\n",
    "    'quantization transfer': 'Quantization'\n",
    "}\n",
    "\n",
    "compressor_ordering = {\n",
    "    'none': 3,\n",
    "    'convae': 2,\n",
    "    'thinning': 1,\n",
    "    'quantization transfer': 0\n",
    "}\n",
    "\n",
    "view['legend'] = view.apply(\n",
    "    lambda row: encoder_names[row['encoder']] + compressor_names[row['compressor']] + (f\" (k={row['compressor_param']:.2f})\" if row['compressor'] == 'thinning' else f\" (k={row['compressor_param']:.0f})\"),\n",
    "    axis=1\n",
    ")\n",
    "\n",
    "view['ordering'] = view.apply(\n",
    "    lambda row: compressor_ordering[row['compressor']],\n",
    "    axis=1\n",
    ")\n",
    "\n",
    "view.loc[(view['encoder']=='none') & (view['compressor']=='none'), 'legend'] = 'GDumb'\n",
    "view.loc[(view['encoder']=='cutr') & (view['compressor']=='none'), 'legend'] = 'Cut ResNet + GDumb'"
   ]
  },
  {
   "cell_type": "code",
   "execution_count": null,
   "metadata": {},
   "outputs": [],
   "source": [
    "view"
   ]
  },
  {
   "cell_type": "code",
   "execution_count": null,
   "metadata": {},
   "outputs": [],
   "source": [
    "import plotly.express as px\n",
    "from plot_utils import science_template\n",
    "\n",
    "config = {\n",
    "    'displaylogo': False,\n",
    "    'toImageButtonOptions': {\n",
    "        'format': 'png', # one of png, svg, jpeg, webp\n",
    "        'filename': 'rescon',\n",
    "        'scale': 3 # Multiply title/legend/axis/canvas sizes by this factor\n",
    "    }\n",
    "}\n",
    "\n",
    "fig = px.line(\n",
    "    view.sort_values(['mem_size_mb', 'ordering']),\n",
    "    y='mem_size_mb',\n",
    "    x='final_acc',\n",
    "    color='legend',\n",
    "    markers=True,\n",
    "    facet_col='dataset',\n",
    "    log_y=True,\n",
    "    template=science_template,\n",
    "    range_x=[0, None],\n",
    "    hover_data={\n",
    "        'mem_size': True,\n",
    "    },\n",
    "    category_orders={\n",
    "        'dataset': ['CIFAR10', 'CIFAR100'],\n",
    "    },\n",
    "    labels={\n",
    "        'mem_size': 'Number of Memory Slots',\n",
    "        'final_acc': 'Accuracy',\n",
    "        'mem_size_mb': 's<sub>Σ</sub>',\n",
    "    },\n",
    "    line_dash='compressor',\n",
    "    \n",
    ")\n",
    "\n",
    "fig.for_each_annotation(lambda a: a.update(text=a.text.split(\"=\")[1]))\n",
    "\n",
    "fig.update_xaxes(matches=None)\n",
    "\n",
    "fig.update_layout(\n",
    "    legend_title='',\n",
    "    legend_font_size=12.5,\n",
    "    xaxis1={\n",
    "        'dtick': 0.1,\n",
    "        'title_standoff': 3\n",
    "    },\n",
    "    xaxis2={\n",
    "        'range': [0, 0.5],\n",
    "        'dtick': 0.1,\n",
    "        'title_standoff': 3\n",
    "    },\n",
    "    yaxis_titlefont_size=15,\n",
    "    yaxis_tickfont_size=10,\n",
    ")\n",
    "\n",
    "legend_names = [('solid', '#636EFA', 'FETCH with Quantization (k=2)'),\n",
    "                ('solid', '#636EFA', 'FETCH with Quantization (k=2)'),\n",
    "                ('dash', '#636EFA', 'FETCH with Quantization (k=4)'),\n",
    "                ('dash', '#636EFA', 'FETCH with Quantization (k=4)'),\n",
    "                ('dot', '#636EFA', 'FETCH with Quantization (k=32)'),\n",
    "                ('dot', '#636EFA', 'FETCH with Quantization (k=32)'),\n",
    "                ('solid', '#EF553B', 'FETCH with Thinning (k=0.95)'),\n",
    "                ('solid', '#EF553B', 'FETCH with Thinning (k=0.95)'),\n",
    "                ('dot', '#EF553B', 'FETCH with Thinning (k=0.50)'),\n",
    "                ('dot', '#EF553B', 'FETCH with Thinning (k=0.50)'),\n",
    "                ('solid', '#00CC96', 'GDumb'),\n",
    "                ('solid', '#00CC96', 'GDumb'),\n",
    "                ('solid', '#AB63FA', 'FETCH, no Compressor'),\n",
    "                ('solid', '#AB63FA', 'FETCH, no Compressor'),\n",
    "                ('solid', '#FFa15A', 'Autoencoder (k=16)'),\n",
    "                ('solid', '#FFa15A', 'Autoencoder (k=16)')]\n",
    "\n",
    "for i,trace in enumerate(fig.data):\n",
    "    trace.line.dash = legend_names[i][0]\n",
    "    trace.line.color = legend_names[i][1]\n",
    "    trace.name = legend_names[i][2]\n",
    "\n",
    "fig.update_traces(\n",
    "    line=dict(width=2),\n",
    "    marker=dict(size=5),\n",
    ")\n",
    "\n",
    "fig.show()"
   ]
  },
  {
   "cell_type": "code",
   "execution_count": null,
   "metadata": {},
   "outputs": [],
   "source": [
    "fig.write_image(file='../plots/rescon.pdf', width=800, height=320, scale=5)"
   ]
  },
  {
   "cell_type": "code",
   "execution_count": null,
   "metadata": {},
   "outputs": [],
   "source": [
    "! pdfcrop ../plots/rescon.pdf /Users/marwei/Documents/publications/2023/IDEAL/images/rescon.pdf\n",
    "! (cd /Users/marwei/Documents/publications/2023/IDEAL && make fast)"
   ]
  },
  {
   "cell_type": "code",
   "execution_count": null,
   "metadata": {},
   "outputs": [],
   "source": []
  }
 ],
 "metadata": {
  "kernelspec": {
   "display_name": "venv",
   "language": "python",
   "name": "python3"
  },
  "language_info": {
   "codemirror_mode": {
    "name": "ipython",
    "version": 3
   },
   "file_extension": ".py",
   "mimetype": "text/x-python",
   "name": "python",
   "nbconvert_exporter": "python",
   "pygments_lexer": "ipython3",
   "version": "3.10.11"
  },
  "orig_nbformat": 4,
  "vscode": {
   "interpreter": {
    "hash": "bf512aeddfa2a661caeb125bde29b96da36ff535c5cf534cb92d1e0ed67a6bd0"
   }
  }
 },
 "nbformat": 4,
 "nbformat_minor": 2
}
