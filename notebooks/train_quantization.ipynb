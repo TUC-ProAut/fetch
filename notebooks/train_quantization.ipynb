{
 "cells": [
  {
   "attachments": {},
   "cell_type": "markdown",
   "metadata": {},
   "source": [
    "# Train Quantization\n",
    "\n",
    "We analyze the TinyImagenet-Dataset to find the max and min values in all the original data and the data after cutr3-encoding. Because of outliers (especially after encoding) we also save the max and min 5 %. this is necessary to use the quantization-compression with global quantiles.\n",
    "\n",
    "This Notebook has no outputs. We hardcode the results in quantization.py -> _get_statistics.\n",
    "\n",
    "We also cannto stora an array of all tensor values, so this notebook is just an approximation\n",
    "\n",
    "First some params for this Notebook:"
   ]
  },
  {
   "cell_type": "code",
   "execution_count": null,
   "metadata": {},
   "outputs": [],
   "source": [
    "DATA_DIR = '/data/marwei/pytorch/'\n",
    "LOG_DIR = '/Users/marwei/code/encodedgdumb/logs/'\n",
    "args = ['--dataset', 'TinyImagenet',\n",
    "        '--num_classes_per_task', '5',\n",
    "        '--num_tasks', '20',\n",
    "        '--seed', '0',\n",
    "        '--memory_size', '100',\n",
    "        '--num_passes', '256',\n",
    "        '--encoder', 'cutr',\n",
    "        '--encoding_block', '3.5',\n",
    "        '--compressor', 'none',\n",
    "        '--backbone', 'mlp',\n",
    "        '--batch_size', '100',\n",
    "        '--data_dir', DATA_DIR,\n",
    "        '--log_dir', LOG_DIR,\n",
    "        '--exp_name', 'test',\n",
    "        '--device', 'cuda'\n",
    "]\n"
   ]
  },
  {
   "attachments": {},
   "cell_type": "markdown",
   "metadata": {},
   "source": [
    "change the dir so the inputs work"
   ]
  },
  {
   "cell_type": "code",
   "execution_count": null,
   "metadata": {},
   "outputs": [],
   "source": [
    "import os\n",
    "import argparse\n",
    "import numpy as np\n",
    "\n",
    "os.chdir('../src')\n",
    "\n",
    "from opts import add_general_args, parse_general_args\n",
    "from datasets import get_dataset\n",
    "from encoders import get_encoder, get_encoder_arg_fn\n",
    "\n",
    "os.chdir('../')\n"
   ]
  },
  {
   "cell_type": "code",
   "execution_count": null,
   "metadata": {},
   "outputs": [],
   "source": [
    "general_args = parse_general_args(args)\n",
    "add_encoder_args = get_encoder_arg_fn(general_args.encoder)\n",
    "parser = argparse.ArgumentParser()\n",
    "add_general_args(parser)\n",
    "add_encoder_args(parser)\n",
    "opt = parser.parse_args(args)\n"
   ]
  },
  {
   "cell_type": "code",
   "execution_count": null,
   "metadata": {},
   "outputs": [],
   "source": [
    "\n",
    "dataset = get_dataset(opt)\n",
    "encoder = get_encoder(opt, dataset.info()).to(opt.device)\n",
    "train_loader, _ = dataset.get_task_loaders()"
   ]
  },
  {
   "cell_type": "code",
   "execution_count": null,
   "metadata": {},
   "outputs": [],
   "source": [
    "from dataclasses import dataclass\n",
    "import torch\n",
    "\n",
    "@dataclass\n",
    "class OutlierStatistic:\n",
    "    min = torch.tensor(float('inf'))\n",
    "    min5 = torch.tensor(float('inf'))   # outlier corrected\n",
    "    max = torch.tensor(-float('inf'))\n",
    "    max5 = torch.tensor(-float('inf'))  # outlier corrected\n",
    "\n",
    "    def update(self, min, min5, max, max5):\n",
    "        if min < self.min:\n",
    "            self.min = min\n",
    "        if min5 < self.min5:\n",
    "            self.min5 = min5\n",
    "        if max > self.max:\n",
    "            self.max = max\n",
    "        if max5 > self.max5:\n",
    "            self.max5 = max5\n",
    "\n",
    "    def to_dict(self):\n",
    "        return {\n",
    "            'min': self.min.item(),\n",
    "            'min5': self.min5.item(),\n",
    "            'max': self.max.item(),\n",
    "            'max5': self.max5.item()\n",
    "        }\n",
    "    "
   ]
  },
  {
   "attachments": {},
   "cell_type": "markdown",
   "metadata": {},
   "source": [
    "and go"
   ]
  },
  {
   "cell_type": "code",
   "execution_count": null,
   "metadata": {},
   "outputs": [],
   "source": [
    "s_unencoded = OutlierStatistic()\n",
    "s_encoded = OutlierStatistic()\n",
    "\n",
    "for i, (data, _) in enumerate(train_loader):\n",
    "    du = data.to(opt.device)\n",
    "    de = encoder(du)\n",
    "\n",
    "    nu = int(du.numel() * 0.05)     # number \n",
    "    ne = int(de.numel() * 0.05)\n",
    "\n",
    "    su, _ = du.view(du.numel()).sort()\n",
    "    se, _ = de.view(de.numel()).sort()\n",
    "\n",
    "    s_unencoded.update(\n",
    "        min=su[0],\n",
    "        min5=su[nu],\n",
    "        max=su[-1],\n",
    "        max5=su[-nu]\n",
    "    )\n",
    "    s_encoded.update(\n",
    "        min=se[0],\n",
    "        min5=se[ne],\n",
    "        max=se[-1],\n",
    "        max5=se[-ne]\n",
    "    )\n",
    "\n",
    "    if i % 100 == 0:\n",
    "        print(f\"{i} / {len(train_loader)}\")\n"
   ]
  },
  {
   "cell_type": "code",
   "execution_count": null,
   "metadata": {},
   "outputs": [],
   "source": [
    "print(s_encoded.to_dict())"
   ]
  },
  {
   "cell_type": "code",
   "execution_count": null,
   "metadata": {},
   "outputs": [],
   "source": []
  }
 ],
 "metadata": {
  "kernelspec": {
   "display_name": "Python 3.10.4 ('venv')",
   "language": "python",
   "name": "python3"
  },
  "language_info": {
   "codemirror_mode": {
    "name": "ipython",
    "version": 3
   },
   "file_extension": ".py",
   "mimetype": "text/x-python",
   "name": "python",
   "nbconvert_exporter": "python",
   "pygments_lexer": "ipython3",
   "version": "3.11.3"
  },
  "orig_nbformat": 4,
  "vscode": {
   "interpreter": {
    "hash": "4433070b708f14da8b2023477910f5b2bc538e48764f88590aacb89f16be8bc4"
   }
  }
 },
 "nbformat": 4,
 "nbformat_minor": 2
}
