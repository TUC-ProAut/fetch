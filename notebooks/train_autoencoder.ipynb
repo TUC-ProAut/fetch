{
 "cells": [
  {
   "attachments": {},
   "cell_type": "markdown",
   "metadata": {},
   "source": [
    "# Train the Fully Connected Autoencoder\n",
    "\n",
    "| **Dataset**      | **Encoder** | **orig_size** |\n",
    "|------------------|-------------|---------------|\n",
    "| TinyImagenet     | -           | 64x64x3       |\n",
    "| TinyImagenet     | cutr3       | 4x4x256       |\n",
    "|                  |             |               | \n",
    "|   CIFAR10        | -           | 32x32x3       |\n",
    "|   CIFAR10        | cutr3       | 2x2x256       |\n",
    "\n",
    "Note: this code is a little bit scrappy, so be careful when using it, especially with output-filenames!"
   ]
  },
  {
   "cell_type": "code",
   "execution_count": 10,
   "metadata": {},
   "outputs": [],
   "source": [
    "import argparse\n",
    "from pathlib import Path\n",
    "import torch\n",
    "import torchvision\n",
    "from torchvision.datasets import CIFAR10\n",
    "import pandas as pd\n",
    "import plotly.express as px\n",
    "from utils import seed_everything, AverageMeter, science_config_png, science_template   # type: ignore\n",
    "from opts import parse_general_args, add_general_args\n",
    "from encoders import get_encoder_arg_fn, get_encoder, EncoderInfo\n",
    "from compressors import get_compressor_arg_fn\n",
    "from compressors.conv_autoencoder import ConvAutoencoder\n",
    "from backbones import get_backbone_arg_fn\n",
    "from samplers import get_sampler_arg_fn\n",
    "from datasets import ContinualDatasetInfo"
   ]
  },
  {
   "attachments": {},
   "cell_type": "markdown",
   "metadata": {},
   "source": [
    "CLI-Arguments"
   ]
  },
  {
   "cell_type": "code",
   "execution_count": 11,
   "metadata": {},
   "outputs": [],
   "source": [
    "DATA_DIR = '/home/marwei/pytorch'\n",
    "pretraining_classes = [0, 1]\n",
    "\n",
    "args = [\n",
    "    \"--dataset\", \"TinyImagenet\", # Does not matter\n",
    "    \"--num_classes_per_task\", \"20\", # Does not matter\n",
    "    \"--num_tasks\", \"10\",    # Does not matter\n",
    "    \"--seed\", \"0\",\n",
    "    \"--memory_size\", \"10000\", # Does not matter\n",
    "    \"--num_passes\", \"10\",\n",
    "    \"--sampler\", \"greedy_sampler\", # Does not matter\n",
    "    \"--encoder\", \"none\",\n",
    "    # \"--encoder\", \"cutr_cifar\",\n",
    "    # \"--encoding_block\", \"0\",\n",
    "    \"--compressor\", \"convae\",\n",
    "    \"--latent_channels\", \"32\",\n",
    "    \"--backbone\", \"resnet\", # Does not matter\n",
    "    \"--data_dir\", DATA_DIR,\n",
    "    \"--exp_name\", \"test\"\n",
    "]"
   ]
  },
  {
   "attachments": {},
   "cell_type": "markdown",
   "metadata": {},
   "source": [
    "Set everything up"
   ]
  },
  {
   "cell_type": "code",
   "execution_count": 12,
   "metadata": {},
   "outputs": [
    {
     "name": "stdout",
     "output_type": "stream",
     "text": [
      "Files already downloaded and verified\n",
      "Files already downloaded and verified\n"
     ]
    }
   ],
   "source": [
    "train_transforms = torchvision.transforms.Compose([\n",
    "    torchvision.transforms.ToTensor(),\n",
    "    torchvision.transforms.Normalize((0.4914, 0.4822, 0.4465), (0.2023, 0.1994, 0.2010))\n",
    "])\n",
    "\n",
    "test_transforms = torchvision.transforms.Compose([\n",
    "    torchvision.transforms.ToTensor(),\n",
    "    torchvision.transforms.Normalize((0.4914, 0.4822, 0.4465),(0.2023, 0.1994, 0.2010))\n",
    "])\n",
    "\n",
    "\n",
    "trainset_full = CIFAR10(\n",
    "    train=True,\n",
    "    transform=train_transforms,\n",
    "    root=DATA_DIR,\n",
    "    download=True\n",
    ")\n",
    "train_subset_idxs = [i for i in range(len(trainset_full)) if trainset_full.targets[i] in pretraining_classes]\n",
    "trainset = torch.utils.data.Subset(trainset_full, train_subset_idxs)\n",
    "\n",
    "testset_full = CIFAR10(\n",
    "    train=False,\n",
    "    transform=test_transforms,\n",
    "    root=DATA_DIR,\n",
    "    download=True\n",
    ")\n",
    "test_subset_idxs = [i for i in range(len(testset_full)) if testset_full.targets[i] in pretraining_classes]\n",
    "testset = torch.utils.data.Subset(testset_full, test_subset_idxs)\n",
    "\n",
    "train_loader = torch.utils.data.DataLoader(\n",
    "    dataset=trainset,\n",
    "    shuffle=True,\n",
    "    batch_size=16,\n",
    "    num_workers=4,\n",
    ")\n",
    "test_loader = torch.utils.data.DataLoader(\n",
    "    dataset=testset,\n",
    "    shuffle=False,\n",
    "    batch_size=16,\n",
    "    num_workers=4,\n",
    ")\n",
    "\n",
    "dataset_info = ContinualDatasetInfo(\n",
    "    num_classes=2,\n",
    "    channels=3,\n",
    "    size=(32, 32)\n",
    ")"
   ]
  },
  {
   "cell_type": "code",
   "execution_count": 13,
   "metadata": {},
   "outputs": [],
   "source": [
    "parse_general_args(args=args)\n",
    "\n",
    "general_args = parse_general_args(args)\n",
    "\n",
    "add_encoder_args = get_encoder_arg_fn(general_args.encoder)\n",
    "add_backbone_args = get_backbone_arg_fn(general_args.backbone)\n",
    "add_sampler_args = get_sampler_arg_fn(general_args.sampler)\n",
    "add_compressor_args = get_compressor_arg_fn(general_args.compressor)\n",
    "\n",
    "parser = argparse.ArgumentParser()\n",
    "add_general_args(parser)\n",
    "add_encoder_args(parser)\n",
    "add_compressor_args(parser)\n",
    "add_backbone_args(parser)\n",
    "add_sampler_args(parser)\n",
    "opt = parser.parse_args(args)\n",
    "\n",
    "assert opt.compressor == 'fcae' or opt.compressor == 'convae', 'This Notebook is only for training the Autoencoder'\n",
    "\n",
    "seed_everything(opt.seed)\n",
    "\n",
    "encoder = get_encoder(opt, dataset_info).to(opt.device)\n",
    "ae = ConvAutoencoder(opt, encoder.info(), train_ae=True).to(opt.device)\n",
    "optimizer = torch.optim.Adam(ae.parameters(), lr=1e-3)\n",
    "criterion = torch.nn.MSELoss()"
   ]
  },
  {
   "cell_type": "code",
   "execution_count": 14,
   "metadata": {},
   "outputs": [
    {
     "name": "stdout",
     "output_type": "stream",
     "text": [
      "CompressorDecompressorInfo(in_size=(32, 32), in_channels=3, compressed_size=(8, 8), compressed_channels=16, out_size=(32, 32), out_channels=3)\n",
      "EncoderInfo(in_size=(32, 32), in_channels=3, out_size=(32, 32), out_channels=3, name='passThrough')\n"
     ]
    }
   ],
   "source": [
    "print(ae.info())\n",
    "print(encoder.info())"
   ]
  },
  {
   "cell_type": "code",
   "execution_count": 15,
   "metadata": {},
   "outputs": [],
   "source": [
    "def train(ae, encoder, optimizer, criterion, train_loader, epoch):\n",
    "    ae.train()\n",
    "    train_loss = AverageMeter()\n",
    "    n_train = len(train_loader)\n",
    "    for i, (unencoded, _) in enumerate(train_loader):\n",
    "        unencoded = unencoded.to(opt.device)\n",
    "        encoded = encoder(unencoded)\n",
    "\n",
    "        optimizer.zero_grad()\n",
    "        output = ae(encoded)\n",
    "        \n",
    "        loss = criterion(output, encoded)\n",
    "        loss.backward()\n",
    "        train_loss.update(loss.item())\n",
    "        optimizer.step()\n",
    "\n",
    "        if i % 500 == 0:\n",
    "            print(f'epoch {epoch} \\tdata {i}/{n_train} \\ttrain \\tloss: {train_loss.avg:.4f}')\n",
    "    \n",
    "    return ae, optimizer, train_loss\n",
    "\n",
    "\n",
    "def test(ae, encoder, criterion, test_loader, epoch):\n",
    "    ae.eval()\n",
    "    test_loss = AverageMeter()\n",
    "    n_test = len(test_loader)\n",
    "    with torch.no_grad():\n",
    "        for i, (unencoded, _) in enumerate(test_loader):\n",
    "            unencoded = unencoded.to(opt.device)\n",
    "            encoded = encoder(unencoded)\n",
    "            output = ae(encoded)\n",
    "            test_loss.update(criterion(output, encoded).item())\n",
    "            if i % 100 == 0:\n",
    "                print(f'epoch {epoch} \\tdata {i}/{n_test} \\ttest \\tloss: {test_loss.avg:.4f}')\n",
    "    return test_loss"
   ]
  },
  {
   "attachments": {},
   "cell_type": "markdown",
   "metadata": {},
   "source": [
    "aaand go!"
   ]
  },
  {
   "cell_type": "code",
   "execution_count": 16,
   "metadata": {},
   "outputs": [
    {
     "name": "stdout",
     "output_type": "stream",
     "text": [
      "epoch 0 \tdata 0/125 \ttest \tloss: 2.0506\n",
      "epoch 0 \tdata 100/125 \ttest \tloss: 1.7920\n",
      "epoch 1 \tdata 0/625 \ttrain \tloss: 1.6908\n",
      "epoch 1 \tdata 500/625 \ttrain \tloss: 0.4290\n",
      "epoch 1 \tdata 0/125 \ttest \tloss: 0.2077\n",
      "epoch 1 \tdata 100/125 \ttest \tloss: 0.1954\n",
      "epoch 2 \tdata 0/625 \ttrain \tloss: 0.1932\n",
      "epoch 2 \tdata 500/625 \ttrain \tloss: 0.1787\n",
      "epoch 2 \tdata 0/125 \ttest \tloss: 0.1561\n",
      "epoch 2 \tdata 100/125 \ttest \tloss: 0.1539\n",
      "epoch 3 \tdata 0/625 \ttrain \tloss: 0.1710\n",
      "epoch 3 \tdata 500/625 \ttrain \tloss: 0.1476\n",
      "epoch 3 \tdata 0/125 \ttest \tloss: 0.1427\n",
      "epoch 3 \tdata 100/125 \ttest \tloss: 0.1413\n",
      "epoch 4 \tdata 0/625 \ttrain \tloss: 0.1417\n",
      "epoch 4 \tdata 500/625 \ttrain \tloss: 0.1367\n",
      "epoch 4 \tdata 0/125 \ttest \tloss: 0.1346\n",
      "epoch 4 \tdata 100/125 \ttest \tloss: 0.1320\n",
      "epoch 5 \tdata 0/625 \ttrain \tloss: 0.1320\n",
      "epoch 5 \tdata 500/625 \ttrain \tloss: 0.1287\n",
      "epoch 5 \tdata 0/125 \ttest \tloss: 0.1278\n",
      "epoch 5 \tdata 100/125 \ttest \tloss: 0.1243\n",
      "epoch 6 \tdata 0/625 \ttrain \tloss: 0.1211\n",
      "epoch 6 \tdata 500/625 \ttrain \tloss: 0.1225\n",
      "epoch 6 \tdata 0/125 \ttest \tloss: 0.1222\n",
      "epoch 6 \tdata 100/125 \ttest \tloss: 0.1196\n",
      "epoch 7 \tdata 0/625 \ttrain \tloss: 0.1382\n",
      "epoch 7 \tdata 500/625 \ttrain \tloss: 0.1181\n",
      "epoch 7 \tdata 0/125 \ttest \tloss: 0.1181\n",
      "epoch 7 \tdata 100/125 \ttest \tloss: 0.1152\n",
      "epoch 8 \tdata 0/625 \ttrain \tloss: 0.1400\n",
      "epoch 8 \tdata 500/625 \ttrain \tloss: 0.1140\n",
      "epoch 8 \tdata 0/125 \ttest \tloss: 0.1151\n",
      "epoch 8 \tdata 100/125 \ttest \tloss: 0.1124\n",
      "epoch 9 \tdata 0/625 \ttrain \tloss: 0.1016\n",
      "epoch 9 \tdata 500/625 \ttrain \tloss: 0.1111\n",
      "epoch 9 \tdata 0/125 \ttest \tloss: 0.1122\n",
      "epoch 9 \tdata 100/125 \ttest \tloss: 0.1099\n",
      "epoch 10 \tdata 0/625 \ttrain \tloss: 0.1097\n",
      "epoch 10 \tdata 500/625 \ttrain \tloss: 0.1087\n",
      "epoch 10 \tdata 0/125 \ttest \tloss: 0.1100\n",
      "epoch 10 \tdata 100/125 \ttest \tloss: 0.1074\n",
      "saved :)\n"
     ]
    }
   ],
   "source": [
    "param_filename = f'autoencoder_cifar10_classe01_{encoder.info().name}_lc_{opt.latent_channels}.pt'\n",
    "param_file = Path('compressors', 'compressor_params', param_filename).resolve()\n",
    "\n",
    "assert not param_file.exists(), 'File exists, delete this assertion to continue!'\n",
    "\n",
    "first_test_loss = test(\n",
    "    ae=ae,\n",
    "    encoder=encoder,\n",
    "    criterion=criterion,\n",
    "    test_loader=test_loader,\n",
    "    epoch=0\n",
    ")\n",
    "test_losses = [(-1, first_test_loss.avg)]\n",
    "train_losses = []\n",
    "\n",
    "for epoch in range(opt.num_passes):\n",
    "    \n",
    "    ae, optimizer, train_loss = train(\n",
    "        ae=ae,\n",
    "        encoder=encoder,\n",
    "        optimizer=optimizer,\n",
    "        criterion=criterion,\n",
    "        train_loader=train_loader,\n",
    "        epoch=epoch+1\n",
    "    )\n",
    "            \n",
    "    test_loss = test(\n",
    "        ae=ae,\n",
    "        encoder=encoder,\n",
    "        criterion=criterion,\n",
    "        test_loader=test_loader,\n",
    "        epoch=epoch+1\n",
    "    )\n",
    "\n",
    "    train_losses.append((epoch, train_loss.avg))\n",
    "    test_losses.append((epoch, test_loss.avg))\n",
    "    \n",
    "# save the model\n",
    "torch.save(ae.state_dict(), param_file)\n",
    "print('saved :)')"
   ]
  },
  {
   "cell_type": "code",
   "execution_count": 17,
   "metadata": {},
   "outputs": [],
   "source": [
    "learning_curve_test = pd.DataFrame(test_losses, columns=['epoch', 'test_loss'])\n",
    "learning_curve_train = pd.DataFrame(train_losses, columns=['epoch', 'train_loss'])\n",
    "learning_curve_merged = pd.merge(left=learning_curve_test, how='outer', right=learning_curve_train, left_on='epoch', right_on='epoch')\n",
    "learning_curve_merged.epoch = learning_curve_merged.epoch + 1\n",
    "fig = px.line(\n",
    "    learning_curve_merged,\n",
    "    x='epoch',\n",
    "    y=['train_loss', 'test_loss'],\n",
    "    title=f'Learning Curve for {opt.latent_channels}, {opt.encoder}',\n",
    "    log_y=True,\n",
    "    labels={\n",
    "        'epoch': 'Epoch',\n",
    "        'value': 'Loss',\n",
    "        'train_loss': 'Train',\n",
    "        'test_loss': 'Test',\n",
    "    },\n",
    "    template=science_template\n",
    ")\n",
    "fig.show(renderer='browser', config=science_config_png)\n",
    "# fig.write_html(param_filename + '.html')"
   ]
  },
  {
   "attachments": {},
   "cell_type": "markdown",
   "metadata": {},
   "source": [
    "Show some Images"
   ]
  },
  {
   "cell_type": "code",
   "execution_count": 18,
   "metadata": {},
   "outputs": [
    {
     "data": {
      "application/vnd.plotly.v1+json": {
       "config": {
        "plotlyServerURL": "https://plot.ly"
       },
       "data": [
        {
         "hovertemplate": "x: %{x}<br>y: %{y}<extra></extra>",
         "name": "0",
         "source": "data:image/png;base64,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",
         "type": "image",
         "xaxis": "x",
         "yaxis": "y"
        },
        {
         "hovertemplate": "x: %{x}<br>y: %{y}<extra></extra>",
         "name": "0",
         "source": "data:image/png;base64,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",
         "type": "image",
         "xaxis": "x2",
         "yaxis": "y2"
        },
        {
         "hovertemplate": "x: %{x}<br>y: %{y}<extra></extra>",
         "name": "0",
         "source": "data:image/png;base64,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",
         "type": "image",
         "xaxis": "x3",
         "yaxis": "y3"
        },
        {
         "hovertemplate": "x: %{x}<br>y: %{y}<extra></extra>",
         "name": "0",
         "source": "data:image/png;base64,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",
         "type": "image",
         "xaxis": "x4",
         "yaxis": "y4"
        },
        {
         "hovertemplate": "x: %{x}<br>y: %{y}<extra></extra>",
         "name": "0",
         "source": "data:image/png;base64,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",
         "type": "image",
         "xaxis": "x5",
         "yaxis": "y5"
        },
        {
         "hovertemplate": "x: %{x}<br>y: %{y}<extra></extra>",
         "name": "0",
         "source": "data:image/png;base64,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",
         "type": "image",
         "xaxis": "x6",
         "yaxis": "y6"
        },
        {
         "hovertemplate": "x: %{x}<br>y: %{y}<extra></extra>",
         "name": "0",
         "source": "data:image/png;base64,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",
         "type": "image",
         "xaxis": "x7",
         "yaxis": "y7"
        },
        {
         "hovertemplate": "x: %{x}<br>y: %{y}<extra></extra>",
         "name": "0",
         "source": "data:image/png;base64,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",
         "type": "image",
         "xaxis": "x8",
         "yaxis": "y8"
        },
        {
         "hovertemplate": "x: %{x}<br>y: %{y}<extra></extra>",
         "name": "0",
         "source": "data:image/png;base64,iVBORw0KGgoAAAANSUhEUgAAACAAAAAgCAIAAAD8GO2jAAAFEUlEQVR4Xo1WXWxURRT+zty5W2iNgG41PChEEn5MfAP5ayXxGTSRaEQRoj4aGiKPGp8MLyJGJKCNYiIWKkRDE0lKUkpx2RpNS9KQiAiIPChQuu1uje3+3JnPh7l39u62MZ5s7s6cOfOd7/zM3Culai2KIgACURCAEEPSQpECUERIolkEqCsFQsBrRAQAyTAMtTciaUkIxZkmoPOhI40OgI1Ta22sJzVEnEMRB07CAKKUIsTRJ+ls/DY/Tk89cZF4IwAFNLKJcUiSyWa3wQ1Sps3iqDQpFRoD9GzSYOmd8cCveUOnbmQgQKoGgIUFIKIAkIg3JqKUStAJlwyAlgF0qENrjLUWAqYiRpyiFEf373C8EoDLaTIVoZCgYSbTEih188aN8fHxIAjIODiPojxDB+TW0lMkjJxSRGBJQy1aibr2y6/739/f9VbX5dHLgdYkJY4uhohT5CPyQB6uaYlkGIQCuf3H7bNnv+890VsqFvfs3bN23dpateqM0/zqNZhfCCJuO2ONQBa0LJwulgbODXR/+tmlXP7xZY8d6T7S+UyntdZaq7SyHp0EKf4k1zGdRdIObqqVFqBQKAznh7899d3Q4FBxqtjR2fHGm69fv3l98ZJFu3bvbmlpoQASbyGZ0brhJPuxUxhrALRkMoEKZ6b/yefyPT09F4cuTowXAKxavfKVnTuGh4c/7/7iw0MftLa2RlHkITxLKVVrtVotnTuXaxFora2x4/fHR34aHegfONff/9efdyDQWke1aNHiRUuXPnrttxsbN204fuKrbDYbRRFUw6kN0xEggTbGaK2nCpP5XP7q1aujI6MjP49OTkwCEKUAGGMAlEqlUrHU9kDba7t2ZrNZY4yINF1KIGMHZP3WXLBw4ezMzNHDRz/5+HBltuIMRAW0lu4WE+hQR7Uo257t2tu17fltrrt8vzlAABCpO/A+royNnf7m9LHuLyuzleQ0g5aAuJ8Io1q0es3Kt/fte+HF7YFW1pg0OgB/7LVDT/IuJM+fHzzx9cnp4jQApcRaIg7cQZDWbti4/p333t3UsRECQ+vOlgBM2jqOgJRiperb1C0Ui6Uf88PHjx3P/ZCbnZkNggACExlnA6Cjc/OBgwfWPPVkNSpDiTC+b5BqEzcJw1D75ACw1gokm31463Nbn167Lp/L953pu3QpX7hfAJCki8uWL1+5alWtWkXQkBYkyUhrZLJcNlFDBh2LQJTW4cTE/dzFXG9P74XBofJsGQIQ7Y+095zsWb95faVWliCOIJ1nDxRqLVPlShRFTpteJi1JrXWg9b07dwf7B06dOj0yMjpd/BvA9pe2f3ToYNuDrZYU91JJzmmTA42kc12u/BhCUYhMzdBk27Mvv7pjy7NbLpwf6jvTNzZ2pa21tRbVAMGc1rfWioiIQAQiUnQReD+xxMWKHxawNtA6k2m5d/furd9vPbFixZKHFkfGQOC6y/NLZzujM1IqV1wXNdXH9yYAJaJE3LeC1lqUssa48+x5OPTGGiCT/mz5DyHdB4YAiKKIlqJEXEkTHmlyaYnr4/07Ck3WbMyACuLGd4n2S3VlLAQbXzhuLW0d692z3mAxm7pFIg3MROhf+mlxjObZPUfmmrm8xRNCkNymXvyyAC58AAQM3Scl4GhaSx9xE24iBCFQaboN4zlJsCQRl7QZLJH0FkcovlQ5t7bO2/zV+79C98LxtXU+6oEnXupK58+lK+XP2fix2w4SwL8ouorNOSsNIwAAAABJRU5ErkJggg==",
         "type": "image",
         "xaxis": "x9",
         "yaxis": "y9"
        },
        {
         "hovertemplate": "x: %{x}<br>y: %{y}<extra></extra>",
         "name": "0",
         "source": "data:image/png;base64,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",
         "type": "image",
         "xaxis": "x10",
         "yaxis": "y10"
        }
       ],
       "layout": {
        "height": 1000,
        "template": {
         "data": {
          "bar": [
           {
            "error_x": {
             "color": "#2a3f5f"
            },
            "error_y": {
             "color": "#2a3f5f"
            },
            "marker": {
             "line": {
              "color": "#E5ECF6",
              "width": 0.5
             },
             "pattern": {
              "fillmode": "overlay",
              "size": 10,
              "solidity": 0.2
             }
            },
            "type": "bar"
           }
          ],
          "barpolar": [
           {
            "marker": {
             "line": {
              "color": "#E5ECF6",
              "width": 0.5
             },
             "pattern": {
              "fillmode": "overlay",
              "size": 10,
              "solidity": 0.2
             }
            },
            "type": "barpolar"
           }
          ],
          "carpet": [
           {
            "aaxis": {
             "endlinecolor": "#2a3f5f",
             "gridcolor": "white",
             "linecolor": "white",
             "minorgridcolor": "white",
             "startlinecolor": "#2a3f5f"
            },
            "baxis": {
             "endlinecolor": "#2a3f5f",
             "gridcolor": "white",
             "linecolor": "white",
             "minorgridcolor": "white",
             "startlinecolor": "#2a3f5f"
            },
            "type": "carpet"
           }
          ],
          "choropleth": [
           {
            "colorbar": {
             "outlinewidth": 0,
             "ticks": ""
            },
            "type": "choropleth"
           }
          ],
          "contour": [
           {
            "colorbar": {
             "outlinewidth": 0,
             "ticks": ""
            },
            "colorscale": [
             [
              0,
              "#0d0887"
             ],
             [
              0.1111111111111111,
              "#46039f"
             ],
             [
              0.2222222222222222,
              "#7201a8"
             ],
             [
              0.3333333333333333,
              "#9c179e"
             ],
             [
              0.4444444444444444,
              "#bd3786"
             ],
             [
              0.5555555555555556,
              "#d8576b"
             ],
             [
              0.6666666666666666,
              "#ed7953"
             ],
             [
              0.7777777777777778,
              "#fb9f3a"
             ],
             [
              0.8888888888888888,
              "#fdca26"
             ],
             [
              1,
              "#f0f921"
             ]
            ],
            "type": "contour"
           }
          ],
          "contourcarpet": [
           {
            "colorbar": {
             "outlinewidth": 0,
             "ticks": ""
            },
            "type": "contourcarpet"
           }
          ],
          "heatmap": [
           {
            "colorbar": {
             "outlinewidth": 0,
             "ticks": ""
            },
            "colorscale": [
             [
              0,
              "#0d0887"
             ],
             [
              0.1111111111111111,
              "#46039f"
             ],
             [
              0.2222222222222222,
              "#7201a8"
             ],
             [
              0.3333333333333333,
              "#9c179e"
             ],
             [
              0.4444444444444444,
              "#bd3786"
             ],
             [
              0.5555555555555556,
              "#d8576b"
             ],
             [
              0.6666666666666666,
              "#ed7953"
             ],
             [
              0.7777777777777778,
              "#fb9f3a"
             ],
             [
              0.8888888888888888,
              "#fdca26"
             ],
             [
              1,
              "#f0f921"
             ]
            ],
            "type": "heatmap"
           }
          ],
          "heatmapgl": [
           {
            "colorbar": {
             "outlinewidth": 0,
             "ticks": ""
            },
            "colorscale": [
             [
              0,
              "#0d0887"
             ],
             [
              0.1111111111111111,
              "#46039f"
             ],
             [
              0.2222222222222222,
              "#7201a8"
             ],
             [
              0.3333333333333333,
              "#9c179e"
             ],
             [
              0.4444444444444444,
              "#bd3786"
             ],
             [
              0.5555555555555556,
              "#d8576b"
             ],
             [
              0.6666666666666666,
              "#ed7953"
             ],
             [
              0.7777777777777778,
              "#fb9f3a"
             ],
             [
              0.8888888888888888,
              "#fdca26"
             ],
             [
              1,
              "#f0f921"
             ]
            ],
            "type": "heatmapgl"
           }
          ],
          "histogram": [
           {
            "marker": {
             "pattern": {
              "fillmode": "overlay",
              "size": 10,
              "solidity": 0.2
             }
            },
            "type": "histogram"
           }
          ],
          "histogram2d": [
           {
            "colorbar": {
             "outlinewidth": 0,
             "ticks": ""
            },
            "colorscale": [
             [
              0,
              "#0d0887"
             ],
             [
              0.1111111111111111,
              "#46039f"
             ],
             [
              0.2222222222222222,
              "#7201a8"
             ],
             [
              0.3333333333333333,
              "#9c179e"
             ],
             [
              0.4444444444444444,
              "#bd3786"
             ],
             [
              0.5555555555555556,
              "#d8576b"
             ],
             [
              0.6666666666666666,
              "#ed7953"
             ],
             [
              0.7777777777777778,
              "#fb9f3a"
             ],
             [
              0.8888888888888888,
              "#fdca26"
             ],
             [
              1,
              "#f0f921"
             ]
            ],
            "type": "histogram2d"
           }
          ],
          "histogram2dcontour": [
           {
            "colorbar": {
             "outlinewidth": 0,
             "ticks": ""
            },
            "colorscale": [
             [
              0,
              "#0d0887"
             ],
             [
              0.1111111111111111,
              "#46039f"
             ],
             [
              0.2222222222222222,
              "#7201a8"
             ],
             [
              0.3333333333333333,
              "#9c179e"
             ],
             [
              0.4444444444444444,
              "#bd3786"
             ],
             [
              0.5555555555555556,
              "#d8576b"
             ],
             [
              0.6666666666666666,
              "#ed7953"
             ],
             [
              0.7777777777777778,
              "#fb9f3a"
             ],
             [
              0.8888888888888888,
              "#fdca26"
             ],
             [
              1,
              "#f0f921"
             ]
            ],
            "type": "histogram2dcontour"
           }
          ],
          "mesh3d": [
           {
            "colorbar": {
             "outlinewidth": 0,
             "ticks": ""
            },
            "type": "mesh3d"
           }
          ],
          "parcoords": [
           {
            "line": {
             "colorbar": {
              "outlinewidth": 0,
              "ticks": ""
             }
            },
            "type": "parcoords"
           }
          ],
          "pie": [
           {
            "automargin": true,
            "type": "pie"
           }
          ],
          "scatter": [
           {
            "fillpattern": {
             "fillmode": "overlay",
             "size": 10,
             "solidity": 0.2
            },
            "type": "scatter"
           }
          ],
          "scatter3d": [
           {
            "line": {
             "colorbar": {
              "outlinewidth": 0,
              "ticks": ""
             }
            },
            "marker": {
             "colorbar": {
              "outlinewidth": 0,
              "ticks": ""
             }
            },
            "type": "scatter3d"
           }
          ],
          "scattercarpet": [
           {
            "marker": {
             "colorbar": {
              "outlinewidth": 0,
              "ticks": ""
             }
            },
            "type": "scattercarpet"
           }
          ],
          "scattergeo": [
           {
            "marker": {
             "colorbar": {
              "outlinewidth": 0,
              "ticks": ""
             }
            },
            "type": "scattergeo"
           }
          ],
          "scattergl": [
           {
            "marker": {
             "colorbar": {
              "outlinewidth": 0,
              "ticks": ""
             }
            },
            "type": "scattergl"
           }
          ],
          "scattermapbox": [
           {
            "marker": {
             "colorbar": {
              "outlinewidth": 0,
              "ticks": ""
             }
            },
            "type": "scattermapbox"
           }
          ],
          "scatterpolar": [
           {
            "marker": {
             "colorbar": {
              "outlinewidth": 0,
              "ticks": ""
             }
            },
            "type": "scatterpolar"
           }
          ],
          "scatterpolargl": [
           {
            "marker": {
             "colorbar": {
              "outlinewidth": 0,
              "ticks": ""
             }
            },
            "type": "scatterpolargl"
           }
          ],
          "scatterternary": [
           {
            "marker": {
             "colorbar": {
              "outlinewidth": 0,
              "ticks": ""
             }
            },
            "type": "scatterternary"
           }
          ],
          "surface": [
           {
            "colorbar": {
             "outlinewidth": 0,
             "ticks": ""
            },
            "colorscale": [
             [
              0,
              "#0d0887"
             ],
             [
              0.1111111111111111,
              "#46039f"
             ],
             [
              0.2222222222222222,
              "#7201a8"
             ],
             [
              0.3333333333333333,
              "#9c179e"
             ],
             [
              0.4444444444444444,
              "#bd3786"
             ],
             [
              0.5555555555555556,
              "#d8576b"
             ],
             [
              0.6666666666666666,
              "#ed7953"
             ],
             [
              0.7777777777777778,
              "#fb9f3a"
             ],
             [
              0.8888888888888888,
              "#fdca26"
             ],
             [
              1,
              "#f0f921"
             ]
            ],
            "type": "surface"
           }
          ],
          "table": [
           {
            "cells": {
             "fill": {
              "color": "#EBF0F8"
             },
             "line": {
              "color": "white"
             }
            },
            "header": {
             "fill": {
              "color": "#C8D4E3"
             },
             "line": {
              "color": "white"
             }
            },
            "type": "table"
           }
          ]
         },
         "layout": {
          "annotationdefaults": {
           "arrowcolor": "#2a3f5f",
           "arrowhead": 0,
           "arrowwidth": 1
          },
          "autotypenumbers": "strict",
          "coloraxis": {
           "colorbar": {
            "outlinewidth": 0,
            "ticks": ""
           }
          },
          "colorscale": {
           "diverging": [
            [
             0,
             "#8e0152"
            ],
            [
             0.1,
             "#c51b7d"
            ],
            [
             0.2,
             "#de77ae"
            ],
            [
             0.3,
             "#f1b6da"
            ],
            [
             0.4,
             "#fde0ef"
            ],
            [
             0.5,
             "#f7f7f7"
            ],
            [
             0.6,
             "#e6f5d0"
            ],
            [
             0.7,
             "#b8e186"
            ],
            [
             0.8,
             "#7fbc41"
            ],
            [
             0.9,
             "#4d9221"
            ],
            [
             1,
             "#276419"
            ]
           ],
           "sequential": [
            [
             0,
             "#0d0887"
            ],
            [
             0.1111111111111111,
             "#46039f"
            ],
            [
             0.2222222222222222,
             "#7201a8"
            ],
            [
             0.3333333333333333,
             "#9c179e"
            ],
            [
             0.4444444444444444,
             "#bd3786"
            ],
            [
             0.5555555555555556,
             "#d8576b"
            ],
            [
             0.6666666666666666,
             "#ed7953"
            ],
            [
             0.7777777777777778,
             "#fb9f3a"
            ],
            [
             0.8888888888888888,
             "#fdca26"
            ],
            [
             1,
             "#f0f921"
            ]
           ],
           "sequentialminus": [
            [
             0,
             "#0d0887"
            ],
            [
             0.1111111111111111,
             "#46039f"
            ],
            [
             0.2222222222222222,
             "#7201a8"
            ],
            [
             0.3333333333333333,
             "#9c179e"
            ],
            [
             0.4444444444444444,
             "#bd3786"
            ],
            [
             0.5555555555555556,
             "#d8576b"
            ],
            [
             0.6666666666666666,
             "#ed7953"
            ],
            [
             0.7777777777777778,
             "#fb9f3a"
            ],
            [
             0.8888888888888888,
             "#fdca26"
            ],
            [
             1,
             "#f0f921"
            ]
           ]
          },
          "colorway": [
           "#636efa",
           "#EF553B",
           "#00cc96",
           "#ab63fa",
           "#FFA15A",
           "#19d3f3",
           "#FF6692",
           "#B6E880",
           "#FF97FF",
           "#FECB52"
          ],
          "font": {
           "color": "#2a3f5f"
          },
          "geo": {
           "bgcolor": "white",
           "lakecolor": "white",
           "landcolor": "#E5ECF6",
           "showlakes": true,
           "showland": true,
           "subunitcolor": "white"
          },
          "hoverlabel": {
           "align": "left"
          },
          "hovermode": "closest",
          "mapbox": {
           "style": "light"
          },
          "paper_bgcolor": "white",
          "plot_bgcolor": "#E5ECF6",
          "polar": {
           "angularaxis": {
            "gridcolor": "white",
            "linecolor": "white",
            "ticks": ""
           },
           "bgcolor": "#E5ECF6",
           "radialaxis": {
            "gridcolor": "white",
            "linecolor": "white",
            "ticks": ""
           }
          },
          "scene": {
           "xaxis": {
            "backgroundcolor": "#E5ECF6",
            "gridcolor": "white",
            "gridwidth": 2,
            "linecolor": "white",
            "showbackground": true,
            "ticks": "",
            "zerolinecolor": "white"
           },
           "yaxis": {
            "backgroundcolor": "#E5ECF6",
            "gridcolor": "white",
            "gridwidth": 2,
            "linecolor": "white",
            "showbackground": true,
            "ticks": "",
            "zerolinecolor": "white"
           },
           "zaxis": {
            "backgroundcolor": "#E5ECF6",
            "gridcolor": "white",
            "gridwidth": 2,
            "linecolor": "white",
            "showbackground": true,
            "ticks": "",
            "zerolinecolor": "white"
           }
          },
          "shapedefaults": {
           "line": {
            "color": "#2a3f5f"
           }
          },
          "ternary": {
           "aaxis": {
            "gridcolor": "white",
            "linecolor": "white",
            "ticks": ""
           },
           "baxis": {
            "gridcolor": "white",
            "linecolor": "white",
            "ticks": ""
           },
           "bgcolor": "#E5ECF6",
           "caxis": {
            "gridcolor": "white",
            "linecolor": "white",
            "ticks": ""
           }
          },
          "title": {
           "x": 0.05
          },
          "xaxis": {
           "automargin": true,
           "gridcolor": "white",
           "linecolor": "white",
           "ticks": "",
           "title": {
            "standoff": 15
           },
           "zerolinecolor": "white",
           "zerolinewidth": 2
          },
          "yaxis": {
           "automargin": true,
           "gridcolor": "white",
           "linecolor": "white",
           "ticks": "",
           "title": {
            "standoff": 15
           },
           "zerolinecolor": "white",
           "zerolinewidth": 2
          }
         }
        },
        "xaxis": {
         "anchor": "y",
         "domain": [
          0,
          0.45
         ]
        },
        "xaxis10": {
         "anchor": "y10",
         "domain": [
          0.55,
          1
         ]
        },
        "xaxis2": {
         "anchor": "y2",
         "domain": [
          0.55,
          1
         ]
        },
        "xaxis3": {
         "anchor": "y3",
         "domain": [
          0,
          0.45
         ]
        },
        "xaxis4": {
         "anchor": "y4",
         "domain": [
          0.55,
          1
         ]
        },
        "xaxis5": {
         "anchor": "y5",
         "domain": [
          0,
          0.45
         ]
        },
        "xaxis6": {
         "anchor": "y6",
         "domain": [
          0.55,
          1
         ]
        },
        "xaxis7": {
         "anchor": "y7",
         "domain": [
          0,
          0.45
         ]
        },
        "xaxis8": {
         "anchor": "y8",
         "domain": [
          0.55,
          1
         ]
        },
        "xaxis9": {
         "anchor": "y9",
         "domain": [
          0,
          0.45
         ]
        },
        "yaxis": {
         "anchor": "x",
         "domain": [
          0.848,
          1
         ]
        },
        "yaxis10": {
         "anchor": "x10",
         "domain": [
          0,
          0.152
         ]
        },
        "yaxis2": {
         "anchor": "x2",
         "domain": [
          0.848,
          1
         ]
        },
        "yaxis3": {
         "anchor": "x3",
         "domain": [
          0.6359999999999999,
          0.7879999999999999
         ]
        },
        "yaxis4": {
         "anchor": "x4",
         "domain": [
          0.6359999999999999,
          0.7879999999999999
         ]
        },
        "yaxis5": {
         "anchor": "x5",
         "domain": [
          0.424,
          0.576
         ]
        },
        "yaxis6": {
         "anchor": "x6",
         "domain": [
          0.424,
          0.576
         ]
        },
        "yaxis7": {
         "anchor": "x7",
         "domain": [
          0.212,
          0.364
         ]
        },
        "yaxis8": {
         "anchor": "x8",
         "domain": [
          0.212,
          0.364
         ]
        },
        "yaxis9": {
         "anchor": "x9",
         "domain": [
          0,
          0.152
         ]
        }
       }
      },
      "text/html": [
       "<div>                            <div id=\"137a6f15-26d5-4acd-a17d-190fff9013bb\" class=\"plotly-graph-div\" style=\"height:1000px; width:100%;\"></div>            <script type=\"text/javascript\">                require([\"plotly\"], function(Plotly) {                    window.PLOTLYENV=window.PLOTLYENV || {};                                    if (document.getElementById(\"137a6f15-26d5-4acd-a17d-190fff9013bb\")) {                    Plotly.newPlot(                        \"137a6f15-26d5-4acd-a17d-190fff9013bb\",                        [{\"hovertemplate\":\"x: %{x}<br>y: %{y}<extra></extra>\",\"name\":\"0\",\"source\":\"data:image/png;base64,iVBORw0KGgoAAAANSUhEUgAAACAAAAAgCAIAAAD8GO2jAAAImklEQVR4Xi2WW3NcV5lAv9ve55zuVnfrZsm2ZBsUYjvYIthgwtyYeYOX+W/zMFXzML9gmBegCBSXlInJYJjAZIypJAOJL7KtOLKkbqnVfc7e+/s+HjJ/Ya1aVQv/5V//bXh+ty/V8mg4afX0+CWRGnhg7oe64QDsgAAOqgUc1IqBBwnEgogAQOjIqqoAQIh1U1fUgNdYy+yzP4h6k2UtxWGRIcdyejb1chojtF4S2TxQaKBLC2I+m52JSIyx6xJRcuuIqaqrktUUiFgkrK+v1/0Rkys71VGnI2EvalpQFefNOGy8vkWHr0azaTtvdbXRlbVxheSZibq2K2q9Xo0O7o6IiEjMJWVVAIQqxH6/j+AEiUANCBAlw4igMraFi7gsSbM8iHrvbvvZ9NKdN/FF0+JwKDg5O2nAG4+0MaIuCUE7aCS5JJwsdUtHR2Hn9mxtxfKiEPasQnfSmgsJAKJn8qS5BiH0OKdRtCXavDibtOmjBxl72sBppaBapSb/RSApgs1HjcwtdNBux/ne5yM8j6ubRTVFj4TmxlQCu5SiVsyBwLyzokFXJsnPb/Uuvp79EKrgm9tnlYenL0HktNf3rXNReW5lOB62k9NWSHqVnM7DxkWMpt6MERi0YESOACJAUKyYETAULZFK8/Dh/N23yz+1QLX5oJqmOcxGTw+5rm1Y0CpNaby5Gh+9hOnUtsbwl5dheTh/cV+WRrZ7e15VRFZnlOyuIJEjg2hRJQ9Ao4PT/Onj5dhMHu91vRWEBvdeDC8vdctmMO9P2+rVZAEpf1ZV8y4fH9WfL6cz9P71w48+qfqj8aWvVL2hU1mAC5bOVJq65xLBFmDIitNI03/89nL4h9lkktixCdCV2O+dlpaQklIkmVfEAGdaZtPpsN/MK65Hw3Pj9RLiST9CtF6ijGgIyV2Wlnq5qZKeAZZshFW/v7V6fHK6fzhFlm6WKpTu1Sy71lU8NuvFABTMymLWgvLRWekWZRBs/OUdMQB2BAIGAgd3dZMQuT8eTGfTELiQBzLy1qBDyYFdAFI368coHGKQSKw5d4tFBot9tEJVpGgUs3SOCNYUh5IBQYEYgAClqrjqBfOmF5uCZXLcqtTN6rmt4RjcEAyBBIiR6hAAAACsWAEt4m5GrhUIIC0oE4OoKRQkQhVGYCYJrIJdI/Hw+cHnJ0/2nzxaH2988/ad2OsvwFPJrM5AzEjESOjmhkZOogqAxBGQ3DWYMwmxRK4jARiwiDIJIgZhI5pMJvv7e4cHj/54/50PfvPzr9649fqNW+ubW8BYNIMzAggJEAZkRDJTLQqAEthBzN3dAcDVSnEDoJTnbca3f3Z/6cpNz5nzUqbpbLr3/r177939xWLWbW7u3Lz1NzffvLW6vlpVlYgAIIABOIClVFKXAAAIi6GB4xcEAdDdkalpTp+9L2bGxE5KRCxxdWPnu/984as3rv30Rz/6+MNHJ++1x8eHd9769s5rO4FDyVpMzbKDgzmSIQKSIJM5ELObF1Nwd2BzVEdBYsLAoY1iBRnBOFY3d9+yTE+f/Pur/ccPF0fPH/3vG7tvfv0bb13cuhRCnVOdclYvjoKEAABuCAgADggkTODqgEgUhRCFiMErBCEBy16469KXd65evXr17rOnOfv+i1f7nz3+nz/cv3rtxhtv3NzaujIerwLFeVuKeqwqdzdwdzBUAABzdEQAARRBY1TIGTABu4MBIJg3vd5ovIyMgGjmhHly8OK9/b3f/9fd9c217e2d7UtXm97KxsblC1vbKKheiiq4FTNAQCUvZmaCboLgaOhKZkYEiLGuzqaTvb0nT5/sHQ+qKDJeGiz1eoNQq5bHTx49/PjD+fwHudDG+St37ty6eWPn/IWLyyubdX/ZoQGzjABEHaAAZjO3XGdXY0CObgpqv7n37snB/rnx4NOn+8sryzH0rJyNhyiRq2YQmyWm04PDwz9//PujV5/++lehqpqd165fvvSVS1d2rmy9tjRaxz4h1ZLKom0T5cCUFcAhC8LJdLI4a7+2e+vv/vY79+7/9zt37x5NTzV3Fy5d/u73vhd69cf/9+df/uLnt2/dXl5Zeb639+zZ85S67a3L1669XtROJkcOHmVp0SX88ds/Wf3S32OCnigI2Bd2CqADAgUJT17s/e7935EBAW5ubly//kbo1ceTyR8fPOj1+6srK+Z+8PnLUvTihe3ReEUkkLHaIlU4fb6P//H9/xxdfEtcgrcZtGQtRc3UHErJSNxa0WJgiIrkXBTOWkXmqqrMNOcSgsQqgtPs9Gy+SKZWc11VQKMwP9iXt3/8w6P826UwKItZMk2lU01mnnJSKxzCYlGKOprEUJ9b2xwO15KSOXxxFUyMRER1CBUjIbI7oAFiwQHxfF+aOBjwgC3UzbKhFDMmNHCzjMjuxSwhoDsiiiowtIFL2y6QCAhy9pSyCBMxIjETALTTiaeyEKj5pVheTE8PBtw4gQKlnNs0K3kOVMxTSq3lkItrLkisZszg3i7mZ1pU3dy+SKc4OCIigLlzl3LKs7Xx9s5QPvnk/T897QZVFSwXIIBYLJumWJNpyppLAkASJiQnQkAUCWbWtq2pISFhIIxq7q7ugAAJSlkfXPnW11eWQMia6IAazB2RgJU0s7BgyAZkgVAA0awQgIFJ4IKcLJtEZ3cDZ1QvaI7IHigHGl/e+tK3dgM2hw9+K6W0pTtDbnLuQIUCmBciTqZq2dRUqY41MqhnJkICSwmKonsQAUYkA08xUFZLg2b9a9evXN1ZPHv+4Qfv9roTAQaJRNFjIFAGJwBBAMeCiKGSteU1BiylFM0iWDdVyY6AqqZWJpMTt2ISj1HD9vpru7tr65uPP/jTy4cfBc29iMKZoVODhUNiiAIREc0KoiG65TSTCTIDqLstUpknISBE/v+nhwRoyjK+uHZ+9xqBPrj7zuL5SylFmNT9r3aaQKPwIfn7AAAAAElFTkSuQmCC\",\"xaxis\":\"x\",\"yaxis\":\"y\",\"type\":\"image\"},{\"hovertemplate\":\"x: %{x}<br>y: %{y}<extra></extra>\",\"name\":\"0\",\"source\":\"data:image/png;base64,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\",\"xaxis\":\"x2\",\"yaxis\":\"y2\",\"type\":\"image\"},{\"hovertemplate\":\"x: %{x}<br>y: %{y}<extra></extra>\",\"name\":\"0\",\"source\":\"data:image/png;base64,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\",\"xaxis\":\"x3\",\"yaxis\":\"y3\",\"type\":\"image\"},{\"hovertemplate\":\"x: %{x}<br>y: %{y}<extra></extra>\",\"name\":\"0\",\"source\":\"data:image/png;base64,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\",\"xaxis\":\"x4\",\"yaxis\":\"y4\",\"type\":\"image\"},{\"hovertemplate\":\"x: %{x}<br>y: %{y}<extra></extra>\",\"name\":\"0\",\"source\":\"data:image/png;base64,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\",\"xaxis\":\"x5\",\"yaxis\":\"y5\",\"type\":\"image\"},{\"hovertemplate\":\"x: %{x}<br>y: %{y}<extra></extra>\",\"name\":\"0\",\"source\":\"data:image/png;base64,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\",\"xaxis\":\"x6\",\"yaxis\":\"y6\",\"type\":\"image\"},{\"hovertemplate\":\"x: %{x}<br>y: %{y}<extra></extra>\",\"name\":\"0\",\"source\":\"data:image/png;base64,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\",\"xaxis\":\"x7\",\"yaxis\":\"y7\",\"type\":\"image\"},{\"hovertemplate\":\"x: %{x}<br>y: %{y}<extra></extra>\",\"name\":\"0\",\"source\":\"data:image/png;base64,iVBORw0KGgoAAAANSUhEUgAAACAAAAAgCAIAAAD8GO2jAAAHl0lEQVR4Xi2Wy45daVaEI9Za/977nDwnM522q7Bd5Ybu5jYGxGsw6SdhzqMw5T0QCJBQt4QY9KCLEtWynXan83Iu+/b/ay0GySgUo5AipNDHv/v7fwQJpJl6c5AkzEyyUQjQTNMrKYkUEXhVNRCq2ncyjpO3pe/7aF+3m62Z9F2X1U6nU/MmIpbCTKhIkkEiocIEEsyEKkG2BDJUNUBSHDRVCAkIARFVtbS+K0Nf+r5DbpMyjmcRMaohA5BMQhKZCUuwwZlAKlJqJhINVBEmJDKdkkQ71GUBhBk3N1e73W6/26vpx8/jGmjBbG4mjGR4EFQyiQiXEGQkUesaoQiA6d4AVWQgvK4qMh/ua12pRRBX79/sdhfDMKjo8fjleDydDkcgDQGCQoowI55VhBnyvAeJSEGCpFAySgCZSWg/dF1fMmrf5ft3fzmN0/2n+59++p2Ll/Td0JE0CMJTSABJZISoAAhkRqpK4jkjRQREIsPDVMisyxIZRLTastVodc08rx45rWtNSAJGCpmZBEACAiTz2WRmEEKqwD08iSSCGRkEout1XZqpIv3T7ce21s93f0if0JmCHtlZMVMK2DyFJPC8AUlFQuDpAhGARHNPRhGkpEdN6Kub67qutbauK8vx1KLtrZd9K/urzBApamatZSQyAaI5IEKhdSVWD6QSfenWukSkEEVLxNNms4lwVf75N1cfP324v7s7Tad/+98f33333Tdv33x3/bpbdR7nw8PD+DgaiPAUYZLBTA8zzczq1ZtbKR7uXqO1zkwFwtj1fP3ipZntLtZ9r/eo8OrB9NpL9AzTi7VkpS4hRiEFGQBThc09mjS0DG9tjQAS0WZEpKCzfki+f/P6z/74T65fXj/99t8HxV5nj5Et0RbLkGyHdX06nJ7GcRwnUwKCFkFShVTW1sSlU5GiNUKQRtCkH7qLod9r/2LXv77ZXV1uud/MVxfT7lISD3PZX2xUsjDX6rX5OtfaGn/1D/+01BWZfd9lezS1odO+H46HJw+ne+nK8cvd/mr/y+9/ub/Zvc9PnfWUpVj5Wrgu6/l0ADHMOE3HccbhdFj2f5GJjFaKWaIxGkmma/i2t6uLoR/6wgsBhmJdV+LVi6vLy29evdz2m+mH/4ltus+l9zdv3kX4PA1InA5ru8dhfqh1HccpMsms7tbRgZZOdZZc9v32Zm/XV/urP/1+Mwy9bspQdozSm2VM0/Tr33y12Uo3DMGfb3tVYq91bQ99nyyPp6X6YWmruxfr1MS6dEqsCaNY1A7tahiud5v3b7/Z7baXly+FOj/e9qW02kxwHE82S9+1tmnpC1KYrkztOus6KxsbNn0pEUqqmdpV3tvWXty8EWM/Tlf7zUVZt+1YTseNlVq/eHP6En2fEbEuv/jZz77ef51aNdiXu9VrdnX98OHDb2+nm+tXtfnryzef70PNBHC4vXr7jpTd1XVG+tMXUEQ7Wvf4OEL73baPCESTKoFsrbKYJx4eT9td/Nd//Oa4TB9/+vDhw6dqby9f33x7ddFt+pArRohpAnZeVEz8uNR1zfMxVCZv+7VZn7bZoNuo2IBqpQRQrD1Ny8N5PJzGw/E8XOxvP3/6z3/51x9/+PHN3/7q+z0v/+il7fecpkhvjSJpXx4eCM7z1Fr9Ns6gSil9Xx+Pjyll8VTVN5cW7glmZouM5OpB8PT08PXrg5Wu317EcNHKtrGr0pkuQEYEkua1RALYlsLPuLxr9sMt/ePhZrMZHu9evFxevnp5Y9qZiZq3Oh8aa//65tt3b9/F5X4e59N5OY2n22mjZmndjOboI9Pds6UF1DNAzecrTVCJoLfm3pZprsuS2HjE2qZ5PEMGdBXesmz+5q/+elnnP9zfHx6e7v77VkVYNCMawiNAZqa5WkoigUxKo0iCoBzG8bxMajgdx832227o2tpqwzFydJR+57YRGeZpOh+fHu7ul3liAqUKxVMSyARAE9WMcA+SRVVVPJImRTslwzORUkhwXZZ1WZIFpQ/tQso0T9M4nu5P43QupCgdMGWrwQyPYMIYHhHMIOENHkHAxDoppEAkk1OLJepa4+F0OvLFohdMvz3kP//6x3Eav96vx4NPaRRRkQLLcFCEQaYFMiJIRqanI2BqnpktqFCaqlrpA3halvvjFK4R3lot3dp7WdaqQhEiACSFIEFkJIWZaSQpjABBCpGIhELmOuYafXdZaz03XZbl7nC+P05rs2k8A1gmvV0mZHp6P2zWmkAKhWAAgXgGKxPgmRWEFALPoMcUYwZrra3W87JO03J8PB3PZ5PrrkhtocLT+UxCRSkoKgATUAGiIaK1AGDzWiEkkYLmFFMhUuhNS7fRXnXofvjpg0c7QbF/8fvfHyhUYprmtWU/DCpiJsth1qIAkzmvSVWIiIqJkQkzEdLDmVGKiKBlEilMJdY617WuS13myZRCFhNVWVcg0xQqpAJIMyphRQiqUkj7//qDFChBBEOINEVdx7Tt+XA6Pt9JZLY0oQiLUEXMFAiEtmjMQASaOVIyE07XSDemEwgPpiiDRHhlshRVxjRPqqznJ1GhDRQYTZmCVGZRqKC1lYAyCLS6kCACkWtbCPwfd+xD/Glc/lUAAAAASUVORK5CYII=\",\"xaxis\":\"x8\",\"yaxis\":\"y8\",\"type\":\"image\"},{\"hovertemplate\":\"x: %{x}<br>y: %{y}<extra></extra>\",\"name\":\"0\",\"source\":\"data:image/png;base64,iVBORw0KGgoAAAANSUhEUgAAACAAAAAgCAIAAAD8GO2jAAAFEUlEQVR4Xo1WXWxURRT+zty5W2iNgG41PChEEn5MfAP5ayXxGTSRaEQRoj4aGiKPGp8MLyJGJKCNYiIWKkRDE0lKUkpx2RpNS9KQiAiIPChQuu1uje3+3JnPh7l39u62MZ5s7s6cOfOd7/zM3Culai2KIgACURCAEEPSQpECUERIolkEqCsFQsBrRAQAyTAMtTciaUkIxZkmoPOhI40OgI1Ta22sJzVEnEMRB07CAKKUIsTRJ+ls/DY/Tk89cZF4IwAFNLKJcUiSyWa3wQ1Sps3iqDQpFRoD9GzSYOmd8cCveUOnbmQgQKoGgIUFIKIAkIg3JqKUStAJlwyAlgF0qENrjLUWAqYiRpyiFEf373C8EoDLaTIVoZCgYSbTEih188aN8fHxIAjIODiPojxDB+TW0lMkjJxSRGBJQy1aibr2y6/739/f9VbX5dHLgdYkJY4uhohT5CPyQB6uaYlkGIQCuf3H7bNnv+890VsqFvfs3bN23dpateqM0/zqNZhfCCJuO2ONQBa0LJwulgbODXR/+tmlXP7xZY8d6T7S+UyntdZaq7SyHp0EKf4k1zGdRdIObqqVFqBQKAznh7899d3Q4FBxqtjR2fHGm69fv3l98ZJFu3bvbmlpoQASbyGZ0brhJPuxUxhrALRkMoEKZ6b/yefyPT09F4cuTowXAKxavfKVnTuGh4c/7/7iw0MftLa2RlHkITxLKVVrtVotnTuXaxFora2x4/fHR34aHegfONff/9efdyDQWke1aNHiRUuXPnrttxsbN204fuKrbDYbRRFUw6kN0xEggTbGaK2nCpP5XP7q1aujI6MjP49OTkwCEKUAGGMAlEqlUrHU9kDba7t2ZrNZY4yINF1KIGMHZP3WXLBw4ezMzNHDRz/5+HBltuIMRAW0lu4WE+hQR7Uo257t2tu17fltrrt8vzlAABCpO/A+royNnf7m9LHuLyuzleQ0g5aAuJ8Io1q0es3Kt/fte+HF7YFW1pg0OgB/7LVDT/IuJM+fHzzx9cnp4jQApcRaIg7cQZDWbti4/p333t3UsRECQ+vOlgBM2jqOgJRiperb1C0Ui6Uf88PHjx3P/ZCbnZkNggACExlnA6Cjc/OBgwfWPPVkNSpDiTC+b5BqEzcJw1D75ACw1gokm31463Nbn167Lp/L953pu3QpX7hfAJCki8uWL1+5alWtWkXQkBYkyUhrZLJcNlFDBh2LQJTW4cTE/dzFXG9P74XBofJsGQIQ7Y+095zsWb95faVWliCOIJ1nDxRqLVPlShRFTpteJi1JrXWg9b07dwf7B06dOj0yMjpd/BvA9pe2f3ToYNuDrZYU91JJzmmTA42kc12u/BhCUYhMzdBk27Mvv7pjy7NbLpwf6jvTNzZ2pa21tRbVAMGc1rfWioiIQAQiUnQReD+xxMWKHxawNtA6k2m5d/furd9vPbFixZKHFkfGQOC6y/NLZzujM1IqV1wXNdXH9yYAJaJE3LeC1lqUssa48+x5OPTGGiCT/mz5DyHdB4YAiKKIlqJEXEkTHmlyaYnr4/07Ck3WbMyACuLGd4n2S3VlLAQbXzhuLW0d692z3mAxm7pFIg3MROhf+mlxjObZPUfmmrm8xRNCkNymXvyyAC58AAQM3Scl4GhaSx9xE24iBCFQaboN4zlJsCQRl7QZLJH0FkcovlQ5t7bO2/zV+79C98LxtXU+6oEnXupK58+lK+XP2fix2w4SwL8ouorNOSsNIwAAAABJRU5ErkJggg==\",\"xaxis\":\"x9\",\"yaxis\":\"y9\",\"type\":\"image\"},{\"hovertemplate\":\"x: %{x}<br>y: %{y}<extra></extra>\",\"name\":\"0\",\"source\":\"data:image/png;base64,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\",\"xaxis\":\"x10\",\"yaxis\":\"y10\",\"type\":\"image\"}],                        {\"template\":{\"data\":{\"histogram2dcontour\":[{\"type\":\"histogram2dcontour\",\"colorbar\":{\"outlinewidth\":0,\"ticks\":\"\"},\"colorscale\":[[0.0,\"#0d0887\"],[0.1111111111111111,\"#46039f\"],[0.2222222222222222,\"#7201a8\"],[0.3333333333333333,\"#9c179e\"],[0.4444444444444444,\"#bd3786\"],[0.5555555555555556,\"#d8576b\"],[0.6666666666666666,\"#ed7953\"],[0.7777777777777778,\"#fb9f3a\"],[0.8888888888888888,\"#fdca26\"],[1.0,\"#f0f921\"]]}],\"choropleth\":[{\"type\":\"choropleth\",\"colorbar\":{\"outlinewidth\":0,\"ticks\":\"\"}}],\"histogram2d\":[{\"type\":\"histogram2d\",\"colorbar\":{\"outlinewidth\":0,\"ticks\":\"\"},\"colorscale\":[[0.0,\"#0d0887\"],[0.1111111111111111,\"#46039f\"],[0.2222222222222222,\"#7201a8\"],[0.3333333333333333,\"#9c179e\"],[0.4444444444444444,\"#bd3786\"],[0.5555555555555556,\"#d8576b\"],[0.6666666666666666,\"#ed7953\"],[0.7777777777777778,\"#fb9f3a\"],[0.8888888888888888,\"#fdca26\"],[1.0,\"#f0f921\"]]}],\"heatmap\":[{\"type\":\"heatmap\",\"colorbar\":{\"outlinewidth\":0,\"ticks\":\"\"},\"colorscale\":[[0.0,\"#0d0887\"],[0.1111111111111111,\"#46039f\"],[0.2222222222222222,\"#7201a8\"],[0.3333333333333333,\"#9c179e\"],[0.4444444444444444,\"#bd3786\"],[0.5555555555555556,\"#d8576b\"],[0.6666666666666666,\"#ed7953\"],[0.7777777777777778,\"#fb9f3a\"],[0.8888888888888888,\"#fdca26\"],[1.0,\"#f0f921\"]]}],\"heatmapgl\":[{\"type\":\"heatmapgl\",\"colorbar\":{\"outlinewidth\":0,\"ticks\":\"\"},\"colorscale\":[[0.0,\"#0d0887\"],[0.1111111111111111,\"#46039f\"],[0.2222222222222222,\"#7201a8\"],[0.3333333333333333,\"#9c179e\"],[0.4444444444444444,\"#bd3786\"],[0.5555555555555556,\"#d8576b\"],[0.6666666666666666,\"#ed7953\"],[0.7777777777777778,\"#fb9f3a\"],[0.8888888888888888,\"#fdca26\"],[1.0,\"#f0f921\"]]}],\"contourcarpet\":[{\"type\":\"contourcarpet\",\"colorbar\":{\"outlinewidth\":0,\"ticks\":\"\"}}],\"contour\":[{\"type\":\"contour\",\"colorbar\":{\"outlinewidth\":0,\"ticks\":\"\"},\"colorscale\":[[0.0,\"#0d0887\"],[0.1111111111111111,\"#46039f\"],[0.2222222222222222,\"#7201a8\"],[0.3333333333333333,\"#9c179e\"],[0.4444444444444444,\"#bd3786\"],[0.5555555555555556,\"#d8576b\"],[0.6666666666666666,\"#ed7953\"],[0.7777777777777778,\"#fb9f3a\"],[0.8888888888888888,\"#fdca26\"],[1.0,\"#f0f921\"]]}],\"surface\":[{\"type\":\"surface\",\"colorbar\":{\"outlinewidth\":0,\"ticks\":\"\"},\"colorscale\":[[0.0,\"#0d0887\"],[0.1111111111111111,\"#46039f\"],[0.2222222222222222,\"#7201a8\"],[0.3333333333333333,\"#9c179e\"],[0.4444444444444444,\"#bd3786\"],[0.5555555555555556,\"#d8576b\"],[0.6666666666666666,\"#ed7953\"],[0.7777777777777778,\"#fb9f3a\"],[0.8888888888888888,\"#fdca26\"],[1.0,\"#f0f921\"]]}],\"mesh3d\":[{\"type\":\"mesh3d\",\"colorbar\":{\"outlinewidth\":0,\"ticks\":\"\"}}],\"scatter\":[{\"fillpattern\":{\"fillmode\":\"overlay\",\"size\":10,\"solidity\":0.2},\"type\":\"scatter\"}],\"parcoords\":[{\"type\":\"parcoords\",\"line\":{\"colorbar\":{\"outlinewidth\":0,\"ticks\":\"\"}}}],\"scatterpolargl\":[{\"type\":\"scatterpolargl\",\"marker\":{\"colorbar\":{\"outlinewidth\":0,\"ticks\":\"\"}}}],\"bar\":[{\"error_x\":{\"color\":\"#2a3f5f\"},\"error_y\":{\"color\":\"#2a3f5f\"},\"marker\":{\"line\":{\"color\":\"#E5ECF6\",\"width\":0.5},\"pattern\":{\"fillmode\":\"overlay\",\"size\":10,\"solidity\":0.2}},\"type\":\"bar\"}],\"scattergeo\":[{\"type\":\"scattergeo\",\"marker\":{\"colorbar\":{\"outlinewidth\":0,\"ticks\":\"\"}}}],\"scatterpolar\":[{\"type\":\"scatterpolar\",\"marker\":{\"colorbar\":{\"outlinewidth\":0,\"ticks\":\"\"}}}],\"histogram\":[{\"marker\":{\"pattern\":{\"fillmode\":\"overlay\",\"size\":10,\"solidity\":0.2}},\"type\":\"histogram\"}],\"scattergl\":[{\"type\":\"scattergl\",\"marker\":{\"colorbar\":{\"outlinewidth\":0,\"ticks\":\"\"}}}],\"scatter3d\":[{\"type\":\"scatter3d\",\"line\":{\"colorbar\":{\"outlinewidth\":0,\"ticks\":\"\"}},\"marker\":{\"colorbar\":{\"outlinewidth\":0,\"ticks\":\"\"}}}],\"scattermapbox\":[{\"type\":\"scattermapbox\",\"marker\":{\"colorbar\":{\"outlinewidth\":0,\"ticks\":\"\"}}}],\"scatterternary\":[{\"type\":\"scatterternary\",\"marker\":{\"colorbar\":{\"outlinewidth\":0,\"ticks\":\"\"}}}],\"scattercarpet\":[{\"type\":\"scattercarpet\",\"marker\":{\"colorbar\":{\"outlinewidth\":0,\"ticks\":\"\"}}}],\"carpet\":[{\"aaxis\":{\"endlinecolor\":\"#2a3f5f\",\"gridcolor\":\"white\",\"linecolor\":\"white\",\"minorgridcolor\":\"white\",\"startlinecolor\":\"#2a3f5f\"},\"baxis\":{\"endlinecolor\":\"#2a3f5f\",\"gridcolor\":\"white\",\"linecolor\":\"white\",\"minorgridcolor\":\"white\",\"startlinecolor\":\"#2a3f5f\"},\"type\":\"carpet\"}],\"table\":[{\"cells\":{\"fill\":{\"color\":\"#EBF0F8\"},\"line\":{\"color\":\"white\"}},\"header\":{\"fill\":{\"color\":\"#C8D4E3\"},\"line\":{\"color\":\"white\"}},\"type\":\"table\"}],\"barpolar\":[{\"marker\":{\"line\":{\"color\":\"#E5ECF6\",\"width\":0.5},\"pattern\":{\"fillmode\":\"overlay\",\"size\":10,\"solidity\":0.2}},\"type\":\"barpolar\"}],\"pie\":[{\"automargin\":true,\"type\":\"pie\"}]},\"layout\":{\"autotypenumbers\":\"strict\",\"colorway\":[\"#636efa\",\"#EF553B\",\"#00cc96\",\"#ab63fa\",\"#FFA15A\",\"#19d3f3\",\"#FF6692\",\"#B6E880\",\"#FF97FF\",\"#FECB52\"],\"font\":{\"color\":\"#2a3f5f\"},\"hovermode\":\"closest\",\"hoverlabel\":{\"align\":\"left\"},\"paper_bgcolor\":\"white\",\"plot_bgcolor\":\"#E5ECF6\",\"polar\":{\"bgcolor\":\"#E5ECF6\",\"angularaxis\":{\"gridcolor\":\"white\",\"linecolor\":\"white\",\"ticks\":\"\"},\"radialaxis\":{\"gridcolor\":\"white\",\"linecolor\":\"white\",\"ticks\":\"\"}},\"ternary\":{\"bgcolor\":\"#E5ECF6\",\"aaxis\":{\"gridcolor\":\"white\",\"linecolor\":\"white\",\"ticks\":\"\"},\"baxis\":{\"gridcolor\":\"white\",\"linecolor\":\"white\",\"ticks\":\"\"},\"caxis\":{\"gridcolor\":\"white\",\"linecolor\":\"white\",\"ticks\":\"\"}},\"coloraxis\":{\"colorbar\":{\"outlinewidth\":0,\"ticks\":\"\"}},\"colorscale\":{\"sequential\":[[0.0,\"#0d0887\"],[0.1111111111111111,\"#46039f\"],[0.2222222222222222,\"#7201a8\"],[0.3333333333333333,\"#9c179e\"],[0.4444444444444444,\"#bd3786\"],[0.5555555555555556,\"#d8576b\"],[0.6666666666666666,\"#ed7953\"],[0.7777777777777778,\"#fb9f3a\"],[0.8888888888888888,\"#fdca26\"],[1.0,\"#f0f921\"]],\"sequentialminus\":[[0.0,\"#0d0887\"],[0.1111111111111111,\"#46039f\"],[0.2222222222222222,\"#7201a8\"],[0.3333333333333333,\"#9c179e\"],[0.4444444444444444,\"#bd3786\"],[0.5555555555555556,\"#d8576b\"],[0.6666666666666666,\"#ed7953\"],[0.7777777777777778,\"#fb9f3a\"],[0.8888888888888888,\"#fdca26\"],[1.0,\"#f0f921\"]],\"diverging\":[[0,\"#8e0152\"],[0.1,\"#c51b7d\"],[0.2,\"#de77ae\"],[0.3,\"#f1b6da\"],[0.4,\"#fde0ef\"],[0.5,\"#f7f7f7\"],[0.6,\"#e6f5d0\"],[0.7,\"#b8e186\"],[0.8,\"#7fbc41\"],[0.9,\"#4d9221\"],[1,\"#276419\"]]},\"xaxis\":{\"gridcolor\":\"white\",\"linecolor\":\"white\",\"ticks\":\"\",\"title\":{\"standoff\":15},\"zerolinecolor\":\"white\",\"automargin\":true,\"zerolinewidth\":2},\"yaxis\":{\"gridcolor\":\"white\",\"linecolor\":\"white\",\"ticks\":\"\",\"title\":{\"standoff\":15},\"zerolinecolor\":\"white\",\"automargin\":true,\"zerolinewidth\":2},\"scene\":{\"xaxis\":{\"backgroundcolor\":\"#E5ECF6\",\"gridcolor\":\"white\",\"linecolor\":\"white\",\"showbackground\":true,\"ticks\":\"\",\"zerolinecolor\":\"white\",\"gridwidth\":2},\"yaxis\":{\"backgroundcolor\":\"#E5ECF6\",\"gridcolor\":\"white\",\"linecolor\":\"white\",\"showbackground\":true,\"ticks\":\"\",\"zerolinecolor\":\"white\",\"gridwidth\":2},\"zaxis\":{\"backgroundcolor\":\"#E5ECF6\",\"gridcolor\":\"white\",\"linecolor\":\"white\",\"showbackground\":true,\"ticks\":\"\",\"zerolinecolor\":\"white\",\"gridwidth\":2}},\"shapedefaults\":{\"line\":{\"color\":\"#2a3f5f\"}},\"annotationdefaults\":{\"arrowcolor\":\"#2a3f5f\",\"arrowhead\":0,\"arrowwidth\":1},\"geo\":{\"bgcolor\":\"white\",\"landcolor\":\"#E5ECF6\",\"subunitcolor\":\"white\",\"showland\":true,\"showlakes\":true,\"lakecolor\":\"white\"},\"title\":{\"x\":0.05},\"mapbox\":{\"style\":\"light\"}}},\"xaxis\":{\"anchor\":\"y\",\"domain\":[0.0,0.45]},\"yaxis\":{\"anchor\":\"x\",\"domain\":[0.848,1.0]},\"xaxis2\":{\"anchor\":\"y2\",\"domain\":[0.55,1.0]},\"yaxis2\":{\"anchor\":\"x2\",\"domain\":[0.848,1.0]},\"xaxis3\":{\"anchor\":\"y3\",\"domain\":[0.0,0.45]},\"yaxis3\":{\"anchor\":\"x3\",\"domain\":[0.6359999999999999,0.7879999999999999]},\"xaxis4\":{\"anchor\":\"y4\",\"domain\":[0.55,1.0]},\"yaxis4\":{\"anchor\":\"x4\",\"domain\":[0.6359999999999999,0.7879999999999999]},\"xaxis5\":{\"anchor\":\"y5\",\"domain\":[0.0,0.45]},\"yaxis5\":{\"anchor\":\"x5\",\"domain\":[0.424,0.576]},\"xaxis6\":{\"anchor\":\"y6\",\"domain\":[0.55,1.0]},\"yaxis6\":{\"anchor\":\"x6\",\"domain\":[0.424,0.576]},\"xaxis7\":{\"anchor\":\"y7\",\"domain\":[0.0,0.45]},\"yaxis7\":{\"anchor\":\"x7\",\"domain\":[0.212,0.364]},\"xaxis8\":{\"anchor\":\"y8\",\"domain\":[0.55,1.0]},\"yaxis8\":{\"anchor\":\"x8\",\"domain\":[0.212,0.364]},\"xaxis9\":{\"anchor\":\"y9\",\"domain\":[0.0,0.45]},\"yaxis9\":{\"anchor\":\"x9\",\"domain\":[0.0,0.152]},\"xaxis10\":{\"anchor\":\"y10\",\"domain\":[0.55,1.0]},\"yaxis10\":{\"anchor\":\"x10\",\"domain\":[0.0,0.152]},\"height\":1000},                        {\"responsive\": true}                    ).then(function(){\n",
       "                            \n",
       "var gd = document.getElementById('137a6f15-26d5-4acd-a17d-190fff9013bb');\n",
       "var x = new MutationObserver(function (mutations, observer) {{\n",
       "        var display = window.getComputedStyle(gd).display;\n",
       "        if (!display || display === 'none') {{\n",
       "            console.log([gd, 'removed!']);\n",
       "            Plotly.purge(gd);\n",
       "            observer.disconnect();\n",
       "        }}\n",
       "}});\n",
       "\n",
       "// Listen for the removal of the full notebook cells\n",
       "var notebookContainer = gd.closest('#notebook-container');\n",
       "if (notebookContainer) {{\n",
       "    x.observe(notebookContainer, {childList: true});\n",
       "}}\n",
       "\n",
       "// Listen for the clearing of the current output cell\n",
       "var outputEl = gd.closest('.output');\n",
       "if (outputEl) {{\n",
       "    x.observe(outputEl, {childList: true});\n",
       "}}\n",
       "\n",
       "                        })                };                });            </script>        </div>"
      ]
     },
     "metadata": {},
     "output_type": "display_data"
    }
   ],
   "source": [
    "imgs = [testset[i][0].to(opt.device) for i in range(5)]\n",
    "to_img = lambda x: ((x.permute([1, 2, 0]) -  x.min()) / (x.max()-x.min()) * 255).detach().to('cpu').numpy()\n",
    "\n",
    "from plotly.subplots import make_subplots\n",
    "fig = make_subplots(rows=5, cols=2)\n",
    "for this_row in range(5):\n",
    "    fig.add_trace(px.imshow(to_img(imgs[this_row])).data[0], row=this_row+1, col=1)\n",
    "    fig.add_trace(px.imshow(to_img(ae(imgs[this_row]))).data[0], row=this_row+1, col=2)\n",
    "fig.update_layout(height=1000)\n",
    "fig.show()"
   ]
  },
  {
   "cell_type": "code",
   "execution_count": null,
   "metadata": {},
   "outputs": [],
   "source": []
  }
 ],
 "metadata": {
  "kernelspec": {
   "display_name": "Python 3.10.4 ('venv')",
   "language": "python",
   "name": "python3"
  },
  "language_info": {
   "codemirror_mode": {
    "name": "ipython",
    "version": 3
   },
   "file_extension": ".py",
   "mimetype": "text/x-python",
   "name": "python",
   "nbconvert_exporter": "python",
   "pygments_lexer": "ipython3",
   "version": "3.11.3"
  },
  "orig_nbformat": 4,
  "vscode": {
   "interpreter": {
    "hash": "4433070b708f14da8b2023477910f5b2bc538e48764f88590aacb89f16be8bc4"
   }
  }
 },
 "nbformat": 4,
 "nbformat_minor": 2
}
