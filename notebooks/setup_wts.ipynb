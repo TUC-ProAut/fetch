{
 "cells": [
  {
   "attachments": {},
   "cell_type": "markdown",
   "metadata": {},
   "source": [
    "# Setup WTS-Experiment"
   ]
  },
  {
   "cell_type": "code",
   "execution_count": null,
   "metadata": {},
   "outputs": [],
   "source": [
    "from pathlib import Path"
   ]
  },
  {
   "cell_type": "code",
   "execution_count": null,
   "metadata": {},
   "outputs": [],
   "source": [
    "# lets assume we have X mb for the whole memory\n",
    "AVAILABLE_MEM_STORAGE = 10*1024*1024\n",
    "BYTES_FOR_FLOAT = 4\n",
    "BYTES_FOR_INT = 1\n",
    "SH_FILE = Path('..', 'scripts', 'wts_core50_resnet34.sh')\n",
    "LOG_DIR = '/home/marwei/Code/encodedgdumb/logs/'\n",
    "DATA_DIR = '/home/marwei/pytorch/'\n",
    "DATASET = 'CORe50'\n",
    "\n",
    "SEEDS = [0, 1, 2]"
   ]
  },
  {
   "attachments": {},
   "cell_type": "markdown",
   "metadata": {},
   "source": [
    "Recall the output-sizes for the cifar-dataset\n",
    "| cut...                    | output shape | output numel |\n",
    "|---------------------------|--------------|--------------|\n",
    "| original (0)              | 32x32x3      |  3072        |\n",
    "| after Block 1             | 8x8x64       |  4096        |\n",
    "| after Block 2             | 4x4x128      |  2048        |\n",
    "| after Block 3             | 2x2x256      |  1024        |\n",
    "| after Block 4             | 1x1x512      |   512        |\n"
   ]
  },
  {
   "cell_type": "code",
   "execution_count": null,
   "metadata": {},
   "outputs": [],
   "source": [
    "# encoding_block: output_numel\n",
    "# 0: 3072 represents the case, where we skip the encoding and train the whole resnet\n",
    "output_sizes = {0: 3072, 1: 4096, 2: 2048, 3: 1024}\n",
    "\n",
    "\n",
    "match DATASET:\n",
    "    case 'CIFAR10':\n",
    "        num_classes_per_task = 2\n",
    "        num_tasks = 5\n",
    "        backbone = 'resnet'\n",
    "        encoder = 'cutr'\n",
    "    case 'CIFAR100':\n",
    "        num_classes_per_task = 5\n",
    "        num_tasks = 20\n",
    "        backbone = 'resnet34'\n",
    "        encoder = 'cutr34'\n",
    "    case 'CORe50':\n",
    "        num_classes_per_task = 2\n",
    "        num_tasks = 5\n",
    "        backbone = 'resnet34'\n",
    "        encoder = 'cutr34'\n",
    "    case _:\n",
    "        raise ValueError(f'unknown dataset: {DATASET}')"
   ]
  },
  {
   "cell_type": "code",
   "execution_count": null,
   "metadata": {},
   "outputs": [],
   "source": [
    "shell_scripts = []\n",
    "\n",
    "for this_seed in SEEDS:\n",
    "    for this_block in output_sizes.keys():\n",
    "\n",
    "        if this_block == 0:\n",
    "            memory_slots = AVAILABLE_MEM_STORAGE // (output_sizes[this_block] * BYTES_FOR_INT)\n",
    "            this_encoder = 'none'\n",
    "            encoding_opts = ''\n",
    "        else:\n",
    "            memory_slots = AVAILABLE_MEM_STORAGE // (output_sizes[this_block] * BYTES_FOR_FLOAT)\n",
    "            this_encoder = encoder\n",
    "            encoding_opts = f\"--encoding_block {this_block} \"\n",
    "        \n",
    "        this_name = f\"{DATASET}_m-{memory_slots}_{this_encoder}-{this_block}_none_{backbone}-{this_block}_s{this_seed}\"\n",
    "        \n",
    "        this_shell_script = f\"python3 src/main.py \" \\\n",
    "            f\"--dataset {DATASET} \" \\\n",
    "            f\"--num_classes_per_task {num_classes_per_task} \" \\\n",
    "            f\"--num_tasks {num_tasks} \" \\\n",
    "            f\"--seed {this_seed} \" \\\n",
    "            f\"--memory_size {memory_slots} \" \\\n",
    "            f\"--num_passes 128 \" \\\n",
    "            f\"--sampler greedy_sampler \" \\\n",
    "            f\"--encoder {this_encoder} \" \\\n",
    "            f\"{encoding_opts}\" \\\n",
    "            f\"--compressor none \" \\\n",
    "            f\"--backbone {backbone} \" \\\n",
    "            f\"--backbone_block {this_block} \" \\\n",
    "            f\"--data_dir {DATA_DIR} \" \\\n",
    "            f\"--log_dir {LOG_DIR} \" \\\n",
    "            f\"--exp_name \\\"{this_name}\\\"\"\n",
    "        shell_scripts.append(this_shell_script)\n"
   ]
  },
  {
   "cell_type": "code",
   "execution_count": null,
   "metadata": {},
   "outputs": [],
   "source": [
    "assert not SH_FILE.exists()\n",
    "with open (SH_FILE, 'w') as fp:\n",
    "    fp.write('\\n'.join(shell_scripts)+'\\n')"
   ]
  },
  {
   "cell_type": "code",
   "execution_count": null,
   "metadata": {},
   "outputs": [],
   "source": []
  }
 ],
 "metadata": {
  "kernelspec": {
   "display_name": "Python 3.10.6 64-bit",
   "language": "python",
   "name": "python3"
  },
  "language_info": {
   "codemirror_mode": {
    "name": "ipython",
    "version": 3
   },
   "file_extension": ".py",
   "mimetype": "text/x-python",
   "name": "python",
   "nbconvert_exporter": "python",
   "pygments_lexer": "ipython3",
   "version": "3.11.3"
  },
  "orig_nbformat": 4,
  "vscode": {
   "interpreter": {
    "hash": "31f2aee4e71d21fbe5cf8b01ff0e069b9275f58929596ceb00d14d90e3e16cd6"
   }
  }
 },
 "nbformat": 4,
 "nbformat_minor": 2
}
